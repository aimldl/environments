{
 "cells": [
  {
   "cell_type": "markdown",
   "metadata": {},
   "source": [
    "# 5. Classification\n",
    "\n",
    "* \"시작하세요! 텐서플로우 2.0 프로그래밍\", \n",
    "  * 5. 분류, pp. 104-105\n",
    "  * 5.4. 정리, p. 138"
   ]
  },
  {
   "cell_type": "markdown",
   "metadata": {},
   "source": [
    "머신러닝의 교사학습 (Supervised Learning)의 2가지 문제인\n",
    "* 회귀 (Regression)\n",
    "* 분류 (Classification)\n",
    "\n",
    "중 분류에 대해서 알아봅니다.\n",
    "\n",
    "분류 문제를 푸는데 있어서 \n",
    "* Softmax 함수\n",
    "* Cross-Entropy 계산\n",
    "이 중요해 집니다.\n",
    "\n",
    "분류를 보여주기 위해서 Wine Dataset과 Fashion MNIST Dataset 2개를 분류해봅니다.\n",
    "\n",
    "분류를 할 때 클래스를 숫자로 표기하는 방식으로 One-Hot Encoding을 쓰는 것을 봅니다.\n",
    "\n",
    "TensorFlow에서 One-hot encoding된 타겟값은 Cross-Entropy를 써서 loss를 계산하고,\n",
    "이런 변화없이 하려면 희소행렬에 대한 Cross-entropy 계산인 sparse_cross_entropy를 쓸 수 있음을 보겠습니다."
   ]
  },
  {
   "cell_type": "code",
   "execution_count": null,
   "metadata": {},
   "outputs": [],
   "source": []
  }
 ],
 "metadata": {
  "kernelspec": {
   "display_name": "Python 3",
   "language": "python",
   "name": "python3"
  },
  "language_info": {
   "codemirror_mode": {
    "name": "ipython",
    "version": 3
   },
   "file_extension": ".py",
   "mimetype": "text/x-python",
   "name": "python",
   "nbconvert_exporter": "python",
   "pygments_lexer": "ipython3",
   "version": "3.7.6"
  }
 },
 "nbformat": 4,
 "nbformat_minor": 4
}

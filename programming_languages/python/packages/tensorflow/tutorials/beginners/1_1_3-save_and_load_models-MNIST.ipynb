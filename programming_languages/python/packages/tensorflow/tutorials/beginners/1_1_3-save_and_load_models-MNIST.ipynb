{
 "cells": [
  {
   "cell_type": "markdown",
   "metadata": {},
   "source": [
    "##### aimldl >python3 > packages > tensorflow > tutorials > beginners > 1_1_3-save_and_load_models-MNIST.ipynb\n",
    "\n",
    "* This notebook is a replica of [Save and load models](https://www.tensorflow.org/tutorials/keras/save_and_load) with some comments.\n",
    "* It is prerequisite to install TensorFlow 2.0.\n",
    "* See [1_1_1-beginner_quickstart-MNIST.ipynb](#1_1_1-beginner_quickstart-MNIST.ipynb) before this notebook."
   ]
  },
  {
   "cell_type": "markdown",
   "metadata": {},
   "source": [
    "Model progress can be saved during—and after—training. This means:\n",
    "* a model can resume where it left off and avoid long training times.\n",
    "* you can share your model and others can recreate your work.\n",
    "\n",
    "When publishing research models and techniques, most machine learning practitioners share:\n",
    "* code to create the model, and\n",
    "* the trained weights, or parameters, for the model"
   ]
  },
  {
   "cell_type": "markdown",
   "metadata": {},
   "source": [
    "### Setup\n",
    "#### Install HDF5\n",
    "Models are saved in HDF5 format."
   ]
  },
  {
   "cell_type": "code",
   "execution_count": 1,
   "metadata": {},
   "outputs": [],
   "source": [
    "!pip install -q pyyaml h5py "
   ]
  },
  {
   "cell_type": "markdown",
   "metadata": {},
   "source": [
    "#### Imports"
   ]
  },
  {
   "cell_type": "code",
   "execution_count": 2,
   "metadata": {},
   "outputs": [
    {
     "name": "stdout",
     "output_type": "stream",
     "text": [
      "2.0.0\n"
     ]
    }
   ],
   "source": [
    "from __future__ import absolute_import, division, print_function, unicode_literals\n",
    "\n",
    "import os\n",
    "import tensorflow as tf\n",
    "from tensorflow import keras\n",
    "\n",
    "print(tf.version.VERSION)"
   ]
  },
  {
   "cell_type": "markdown",
   "metadata": {},
   "source": [
    "### Example: the MNIST dataset\n",
    "To demonstrate how to save and load weights in HDF5 format, the MNIST dataset is employed."
   ]
  },
  {
   "cell_type": "code",
   "execution_count": 4,
   "metadata": {},
   "outputs": [],
   "source": [
    "mnist = tf.keras.datasets.mnist\n",
    "(train_images, train_labels), (test_images, test_labels) = mnist.load_data()"
   ]
  },
  {
   "cell_type": "markdown",
   "metadata": {},
   "source": [
    "From TensorFlow Dataset, the MNIST dataset is loaded. In the tutorial, a single line is used as follows:\n",
    "```python\n",
    "(train_images, train_labels), (test_images, test_labels) = tf.keras.datasets.mnist.load_data()\n",
    "```\n",
    "In some examples, the variable names are different, but mean the same things.\n",
    "\n",
    "| Type of Data   | Notation 1 | Notation 2   |\n",
    "|----------------|------------|--------------|\n",
    "| Training Data  | x_train    | train_images |\n",
    "| Training Label | y_train    | train_labels |\n",
    "| Test Data      | x_test     | test_images  |\n",
    "| Test Label     | y_test     | test_labels  |"
   ]
  },
  {
   "cell_type": "markdown",
   "metadata": {},
   "source": [
    "In this example, only the first 1000 examples are used to speed up the runs."
   ]
  },
  {
   "cell_type": "code",
   "execution_count": 5,
   "metadata": {},
   "outputs": [],
   "source": [
    "# Use only a part of the dataset\n",
    "train_labels = train_labels[:1000]\n",
    "test_labels = test_labels[:1000]\n",
    "\n",
    "# Normalize the values from [0,255] to [0,1]\n",
    "train_images = train_images[:1000].reshape(-1, 28 * 28) / 255.0\n",
    "test_images = test_images[:1000].reshape(-1, 28 * 28) / 255.0"
   ]
  },
  {
   "cell_type": "markdown",
   "metadata": {},
   "source": [
    "Or simply\n",
    "```python\n",
    "train_images = train_images[:1000] / 255.0\n",
    "test_images = test_images[:1000] / 255.0\n",
    "```"
   ]
  },
  {
   "cell_type": "markdown",
   "metadata": {},
   "source": [
    "### Define a model"
   ]
  },
  {
   "cell_type": "code",
   "execution_count": 8,
   "metadata": {},
   "outputs": [],
   "source": [
    "model = tf.keras.models.Sequential([\n",
    "  tf.keras.layers.Dense(512, activation='relu', input_shape=(784,)),\n",
    "  tf.keras.layers.Dropout(0.2),\n",
    "  tf.keras.layers.Dense(10, activation='softmax')\n",
    "])\n",
    "\n",
    "model.compile(optimizer='adam',\n",
    "              loss='sparse_categorical_crossentropy',\n",
    "              metrics=['accuracy'])"
   ]
  },
  {
   "cell_type": "markdown",
   "metadata": {},
   "source": [
    "Alternatively, you can define and declare a function. The tutorial has done it this way. We'll define the above lines as a function for later usage."
   ]
  },
  {
   "cell_type": "code",
   "execution_count": 20,
   "metadata": {},
   "outputs": [],
   "source": [
    "# Define a simple sequential model\n",
    "def create_model():\n",
    "  '''\n",
    "  # To create a basic model instance, \n",
    "  model = create_model()\n",
    "  '''  \n",
    "  model = tf.keras.models.Sequential([\n",
    "    keras.layers.Dense(512, activation='relu', input_shape=(784,)),\n",
    "    keras.layers.Dropout(0.2),\n",
    "    keras.layers.Dense(10, activation='softmax')\n",
    "  ])\n",
    "\n",
    "  model.compile(optimizer='adam',\n",
    "                loss='sparse_categorical_crossentropy',\n",
    "                metrics=['accuracy'])\n",
    "\n",
    "  return model"
   ]
  },
  {
   "cell_type": "code",
   "execution_count": 9,
   "metadata": {},
   "outputs": [
    {
     "name": "stdout",
     "output_type": "stream",
     "text": [
      "Model: \"sequential\"\n",
      "_________________________________________________________________\n",
      "Layer (type)                 Output Shape              Param #   \n",
      "=================================================================\n",
      "dense (Dense)                (None, 512)               401920    \n",
      "_________________________________________________________________\n",
      "dropout (Dropout)            (None, 512)               0         \n",
      "_________________________________________________________________\n",
      "dense_1 (Dense)              (None, 10)                5130      \n",
      "=================================================================\n",
      "Total params: 407,050\n",
      "Trainable params: 407,050\n",
      "Non-trainable params: 0\n",
      "_________________________________________________________________\n"
     ]
    }
   ],
   "source": [
    "# Display the model's architecture\n",
    "model.summary()"
   ]
  },
  {
   "cell_type": "markdown",
   "metadata": {},
   "source": [
    "### Save checkpoints during training\n",
    "The [tf.keras.callbacks.ModelCheckpoint](https://www.tensorflow.org/api_docs/python/tf/keras/callbacks/ModelCheckpoint) callback allows to continually save the model both during and at the end of training.\n",
    "\n",
    "#### Checkpoint callback usage"
   ]
  },
  {
   "cell_type": "code",
   "execution_count": 12,
   "metadata": {},
   "outputs": [
    {
     "name": "stdout",
     "output_type": "stream",
     "text": [
      "training_1\n"
     ]
    }
   ],
   "source": [
    "checkpoint_path = \"training_1/cp.ckpt\"\n",
    "checkpoint_dir = os.path.dirname(checkpoint_path)\n",
    "print( checkpoint_dir )"
   ]
  },
  {
   "cell_type": "code",
   "execution_count": 13,
   "metadata": {},
   "outputs": [],
   "source": [
    "# Create a callback that saves the model's weights\n",
    "cp_callback = tf.keras.callbacks.ModelCheckpoint(filepath=checkpoint_path,\n",
    "                                                 save_weights_only=True,\n",
    "                                                 verbose=1)"
   ]
  },
  {
   "cell_type": "code",
   "execution_count": 14,
   "metadata": {},
   "outputs": [
    {
     "data": {
      "text/plain": [
       "<tensorflow.python.keras.callbacks.ModelCheckpoint at 0x7f056c4ac250>"
      ]
     },
     "execution_count": 14,
     "metadata": {},
     "output_type": "execute_result"
    }
   ],
   "source": [
    "cp_callback"
   ]
  },
  {
   "cell_type": "code",
   "execution_count": 15,
   "metadata": {
    "scrolled": true
   },
   "outputs": [
    {
     "name": "stdout",
     "output_type": "stream",
     "text": [
      "Train on 1000 samples, validate on 1000 samples\n",
      "Epoch 1/10\n",
      "  32/1000 [..............................] - ETA: 0s - loss: 0.0355 - accuracy: 1.0000\n",
      "Epoch 00001: saving model to training_1/cp.ckpt\n",
      "1000/1000 [==============================] - 0s 96us/sample - loss: 0.0302 - accuracy: 1.0000 - val_loss: 0.4009 - val_accuracy: 0.8730\n",
      "Epoch 2/10\n",
      " 992/1000 [============================>.] - ETA: 0s - loss: 0.0239 - accuracy: 0.9990\n",
      "Epoch 00002: saving model to training_1/cp.ckpt\n",
      "1000/1000 [==============================] - 0s 96us/sample - loss: 0.0244 - accuracy: 0.9990 - val_loss: 0.4056 - val_accuracy: 0.8690\n",
      "Epoch 3/10\n",
      "  32/1000 [..............................] - ETA: 0s - loss: 0.0354 - accuracy: 1.0000\n",
      "Epoch 00003: saving model to training_1/cp.ckpt\n",
      "1000/1000 [==============================] - 0s 89us/sample - loss: 0.0247 - accuracy: 1.0000 - val_loss: 0.4175 - val_accuracy: 0.8670\n",
      "Epoch 4/10\n",
      "  32/1000 [..............................] - ETA: 0s - loss: 0.0166 - accuracy: 1.0000\n",
      "Epoch 00004: saving model to training_1/cp.ckpt\n",
      "1000/1000 [==============================] - 0s 88us/sample - loss: 0.0181 - accuracy: 1.0000 - val_loss: 0.4138 - val_accuracy: 0.8620\n",
      "Epoch 5/10\n",
      " 992/1000 [============================>.] - ETA: 0s - loss: 0.0155 - accuracy: 1.0000\n",
      "Epoch 00005: saving model to training_1/cp.ckpt\n",
      "1000/1000 [==============================] - 0s 93us/sample - loss: 0.0155 - accuracy: 1.0000 - val_loss: 0.4036 - val_accuracy: 0.8770\n",
      "Epoch 6/10\n",
      "  32/1000 [..............................] - ETA: 0s - loss: 0.0093 - accuracy: 1.0000\n",
      "Epoch 00006: saving model to training_1/cp.ckpt\n",
      "1000/1000 [==============================] - 0s 87us/sample - loss: 0.0133 - accuracy: 0.9990 - val_loss: 0.4183 - val_accuracy: 0.8710\n",
      "Epoch 7/10\n",
      " 992/1000 [============================>.] - ETA: 0s - loss: 0.0124 - accuracy: 1.0000\n",
      "Epoch 00007: saving model to training_1/cp.ckpt\n",
      "1000/1000 [==============================] - 0s 94us/sample - loss: 0.0124 - accuracy: 1.0000 - val_loss: 0.4090 - val_accuracy: 0.8720\n",
      "Epoch 8/10\n",
      "  32/1000 [..............................] - ETA: 0s - loss: 0.0067 - accuracy: 1.0000\n",
      "Epoch 00008: saving model to training_1/cp.ckpt\n",
      "1000/1000 [==============================] - 0s 89us/sample - loss: 0.0115 - accuracy: 1.0000 - val_loss: 0.4382 - val_accuracy: 0.8760\n",
      "Epoch 9/10\n",
      "  32/1000 [..............................] - ETA: 0s - loss: 0.0113 - accuracy: 1.0000\n",
      "Epoch 00009: saving model to training_1/cp.ckpt\n",
      "1000/1000 [==============================] - 0s 90us/sample - loss: 0.0091 - accuracy: 1.0000 - val_loss: 0.4096 - val_accuracy: 0.8760\n",
      "Epoch 10/10\n",
      " 992/1000 [============================>.] - ETA: 0s - loss: 0.0087 - accuracy: 1.0000\n",
      "Epoch 00010: saving model to training_1/cp.ckpt\n",
      "1000/1000 [==============================] - 0s 94us/sample - loss: 0.0086 - accuracy: 1.0000 - val_loss: 0.4215 - val_accuracy: 0.8720\n"
     ]
    },
    {
     "data": {
      "text/plain": [
       "<tensorflow.python.keras.callbacks.History at 0x7f056c51afd0>"
      ]
     },
     "execution_count": 15,
     "metadata": {},
     "output_type": "execute_result"
    }
   ],
   "source": [
    "# Train the model with the new callback\n",
    "model.fit(train_images, \n",
    "          train_labels,  \n",
    "          epochs=10,\n",
    "          validation_data=(test_images,test_labels),\n",
    "          callbacks=[cp_callback])  # Pass callback to training\n",
    "\n",
    "# This may generate warnings related to saving the state of the optimizer.\n",
    "# These warnings (and similar warnings throughout this notebook)\n",
    "# are in place to discourage outdated usage, and can be ignored."
   ]
  },
  {
   "cell_type": "markdown",
   "metadata": {},
   "source": [
    "Notice the message shows \"saving model to\" which indicates the checkpoint files are updated at the end of each epoch.\n",
    "```\n",
    "Epoch 00001: saving model to training_1/cp.ckpt\n",
    "Epoch 00002: saving model to training_1/cp.ckpt\n",
    "  ...\n",
    "Epoch 00010: saving model to training_1/cp.ckpt\n",
    "```\n",
    "As a result, the models are saved to sub-directory train_1."
   ]
  },
  {
   "cell_type": "code",
   "execution_count": 17,
   "metadata": {},
   "outputs": [
    {
     "name": "stdout",
     "output_type": "stream",
     "text": [
      "checkpoint  cp.ckpt.data-00000-of-00001  cp.ckpt.index\r\n"
     ]
    }
   ],
   "source": [
    "!ls training_1"
   ]
  },
  {
   "cell_type": "code",
   "execution_count": 18,
   "metadata": {},
   "outputs": [
    {
     "name": "stdout",
     "output_type": "stream",
     "text": [
      "total 4792\r\n",
      "drwxr-xr-x 2 aimldl aimldl    4096 11월 21 11:36 .\r\n",
      "drwxrwxr-x 4 aimldl aimldl    4096 11월 21 11:41 ..\r\n",
      "-rw-r--r-- 1 aimldl aimldl      71 11월 21 11:36 checkpoint\r\n",
      "-rw-r--r-- 1 aimldl aimldl 4886688 11월 21 11:36 cp.ckpt.data-00000-of-00001\r\n",
      "-rw-r--r-- 1 aimldl aimldl    1222 11월 21 11:36 cp.ckpt.index\r\n"
     ]
    }
   ],
   "source": [
    "!ls -al training_1"
   ]
  },
  {
   "cell_type": "markdown",
   "metadata": {},
   "source": [
    "#### A New Untrained Model\n",
    "Now a new model is created which is not trained. The weights are at the initial values. The test result with this untrained network is bad. The accuracy is only 11.40%. If another new model is created, the accuracy will be different because the initial weights are random. The common part is the accuracy is very low at the beginning."
   ]
  },
  {
   "cell_type": "code",
   "execution_count": 22,
   "metadata": {},
   "outputs": [
    {
     "name": "stdout",
     "output_type": "stream",
     "text": [
      "1000/1 - 0s - loss: 2.2810 - accuracy: 0.1140\n",
      "Untrained model, accuracy: 11.40%\n"
     ]
    }
   ],
   "source": [
    "# A new basic model instance without training\n",
    "new_model = create_model()\n",
    "\n",
    "# Evaluate the model\n",
    "loss, acc = new_model.evaluate(test_images,  test_labels, verbose=2)\n",
    "print(\"Untrained model, accuracy: {:5.2f}%\".format(100*acc))"
   ]
  },
  {
   "cell_type": "markdown",
   "metadata": {},
   "source": [
    "#### Load the Weights to the New Model from the Checkpoint"
   ]
  },
  {
   "cell_type": "code",
   "execution_count": 23,
   "metadata": {},
   "outputs": [
    {
     "data": {
      "text/plain": [
       "<tensorflow.python.training.tracking.util.CheckpointLoadStatus at 0x7f05444e8810>"
      ]
     },
     "execution_count": 23,
     "metadata": {},
     "output_type": "execute_result"
    }
   ],
   "source": [
    "new_model.load_weights( checkpoint_path )"
   ]
  },
  {
   "cell_type": "code",
   "execution_count": 24,
   "metadata": {},
   "outputs": [
    {
     "name": "stdout",
     "output_type": "stream",
     "text": [
      "1000/1 - 0s - loss: 0.4446 - accuracy: 0.8720\n",
      "Untrained model, accuracy: 87.20%\n"
     ]
    }
   ],
   "source": [
    "# Re-evaluate the model after loading the checkpoint.\n",
    "loss, acc = new_model.evaluate(test_images,  test_labels, verbose=2)\n",
    "print(\"Untrained model, accuracy: {:5.2f}%\".format(100*acc))"
   ]
  },
  {
   "cell_type": "markdown",
   "metadata": {},
   "source": [
    "The accuracy of the loaded model is 87.20%. Recall the accuracy at epoch 10 of the trained model was 100%.\n",
    "```\n",
    "Epoch 00010: saving model to training_1/cp.ckpt\n",
    "1000/1000 [==============================] - 0s 94us/sample - loss: 0.0086 - accuracy: 1.0000 - val_loss: 0.4215 - val_accuracy: 0.8720\n",
    "```"
   ]
  },
  {
   "cell_type": "markdown",
   "metadata": {},
   "source": [
    "### Checkpoint callback options\n",
    "The default tensorflow format only saves the 5 most recent checkpoints. The callback provides several options to adjust the checkpointing frequency & name each checkpoint differently.\n",
    "\n",
    "#### Assigning Name of Each Checkpoint Differently"
   ]
  },
  {
   "cell_type": "code",
   "execution_count": 32,
   "metadata": {},
   "outputs": [
    {
     "name": "stdout",
     "output_type": "stream",
     "text": [
      "training_2/cp-{epoch:04d}.ckpt\n",
      "training_2/cp-0000.ckpt\n",
      "training_2\n"
     ]
    }
   ],
   "source": [
    "# Include the epoch in the file name (uses `str.format`)\n",
    "checkpoint_path = \"training_2/cp-{epoch:04d}.ckpt\"\n",
    "checkpoint_dir = os.path.dirname(checkpoint_path)\n",
    "print(f'{checkpoint_path}' )\n",
    "print( checkpoint_path.format(epoch=0) )\n",
    "print(f'{checkpoint_dir}')"
   ]
  },
  {
   "cell_type": "markdown",
   "metadata": {},
   "source": [
    "Note the sub-directory name has changed to training_2, not training_1."
   ]
  },
  {
   "cell_type": "markdown",
   "metadata": {},
   "source": [
    "#### Adjust the Checkpointing Frequency"
   ]
  },
  {
   "cell_type": "code",
   "execution_count": 37,
   "metadata": {},
   "outputs": [
    {
     "name": "stdout",
     "output_type": "stream",
     "text": [
      "WARNING:tensorflow:`period` argument is deprecated. Please use `save_freq` to specify the frequency in number of samples seen.\n"
     ]
    }
   ],
   "source": [
    "# Create a callback that saves the model's weights every 5 epochs\n",
    "cp_callback = tf.keras.callbacks.ModelCheckpoint(\n",
    "    filepath=checkpoint_path, \n",
    "    verbose=1, \n",
    "    save_weights_only=True,\n",
    "    period=5)"
   ]
  },
  {
   "cell_type": "markdown",
   "metadata": {},
   "source": [
    "```python\n",
    "WARNING:tensorflow:`period` argument is deprecated. Please use `save_freq` to specify the frequency in number of samples seen.\n",
    "```\n",
    "Notice save_freq=5 is not the same as period=5.\n",
    "\n",
    "#### Create a Model Saving Weights Every 5 Epoches\n",
    "Create a new model which saves uniquely named checkpoints at every five epochs as configured above."
   ]
  },
  {
   "cell_type": "code",
   "execution_count": 38,
   "metadata": {},
   "outputs": [],
   "source": [
    "# Create a new model instance\n",
    "model5 = create_model()\n",
    "\n",
    "# Save the weights using the `checkpoint_path` format\n",
    "model5.save_weights(checkpoint_path.format(epoch=0))"
   ]
  },
  {
   "cell_type": "markdown",
   "metadata": {},
   "source": [
    "##### Train the Model with the New Callback (Options)"
   ]
  },
  {
   "cell_type": "code",
   "execution_count": 41,
   "metadata": {},
   "outputs": [
    {
     "name": "stdout",
     "output_type": "stream",
     "text": [
      "\n",
      "Epoch 00005: saving model to training_2/cp-0005.ckpt\n",
      "\n",
      "Epoch 00010: saving model to training_2/cp-0010.ckpt\n",
      "\n",
      "Epoch 00015: saving model to training_2/cp-0015.ckpt\n",
      "\n",
      "Epoch 00020: saving model to training_2/cp-0020.ckpt\n",
      "\n",
      "Epoch 00025: saving model to training_2/cp-0025.ckpt\n",
      "\n",
      "Epoch 00030: saving model to training_2/cp-0030.ckpt\n",
      "\n",
      "Epoch 00035: saving model to training_2/cp-0035.ckpt\n",
      "\n",
      "Epoch 00040: saving model to training_2/cp-0040.ckpt\n",
      "\n",
      "Epoch 00045: saving model to training_2/cp-0045.ckpt\n",
      "\n",
      "Epoch 00050: saving model to training_2/cp-0050.ckpt\n"
     ]
    },
    {
     "data": {
      "text/plain": [
       "<tensorflow.python.keras.callbacks.History at 0x7f050079b6d0>"
      ]
     },
     "execution_count": 41,
     "metadata": {},
     "output_type": "execute_result"
    }
   ],
   "source": [
    "# Train the model with the new callback\n",
    "model.fit( train_images, \n",
    "           train_labels,\n",
    "           epochs=50, \n",
    "           callbacks=[cp_callback],\n",
    "           validation_data=(test_images,test_labels),\n",
    "           verbose=0 )"
   ]
  },
  {
   "cell_type": "markdown",
   "metadata": {},
   "source": [
    "The training is checkpointed every 5 epoch. The new checkpoint_dir or training_2 has the following files."
   ]
  },
  {
   "cell_type": "code",
   "execution_count": 42,
   "metadata": {},
   "outputs": [
    {
     "name": "stdout",
     "output_type": "stream",
     "text": [
      "checkpoint\t\t\t  cp-0030.ckpt.data-00000-of-00001\r\n",
      "cp-0005.ckpt.data-00000-of-00001  cp-0030.ckpt.index\r\n",
      "cp-0005.ckpt.index\t\t  cp-0035.ckpt.data-00000-of-00001\r\n",
      "cp-0010.ckpt.data-00000-of-00001  cp-0035.ckpt.index\r\n",
      "cp-0010.ckpt.index\t\t  cp-0040.ckpt.data-00000-of-00001\r\n",
      "cp-0015.ckpt.data-00000-of-00001  cp-0040.ckpt.index\r\n",
      "cp-0015.ckpt.index\t\t  cp-0045.ckpt.data-00000-of-00001\r\n",
      "cp-0020.ckpt.data-00000-of-00001  cp-0045.ckpt.index\r\n",
      "cp-0020.ckpt.index\t\t  cp-0050.ckpt.data-00000-of-00001\r\n",
      "cp-0025.ckpt.data-00000-of-00001  cp-0050.ckpt.index\r\n",
      "cp-0025.ckpt.index\r\n"
     ]
    }
   ],
   "source": [
    "!ls {checkpoint_dir}"
   ]
  },
  {
   "cell_type": "markdown",
   "metadata": {},
   "source": [
    "The latest checkpoint can be obtained conveniently as:"
   ]
  },
  {
   "cell_type": "code",
   "execution_count": 45,
   "metadata": {},
   "outputs": [
    {
     "data": {
      "text/plain": [
       "'training_2/cp-0050.ckpt'"
      ]
     },
     "execution_count": 45,
     "metadata": {},
     "output_type": "execute_result"
    }
   ],
   "source": [
    "latest = tf.train.latest_checkpoint(checkpoint_dir)\n",
    "latest"
   ]
  },
  {
   "cell_type": "code",
   "execution_count": 46,
   "metadata": {},
   "outputs": [
    {
     "data": {
      "text/plain": [
       "str"
      ]
     },
     "execution_count": 46,
     "metadata": {},
     "output_type": "execute_result"
    }
   ],
   "source": [
    "type(latest)"
   ]
  },
  {
   "cell_type": "markdown",
   "metadata": {},
   "source": [
    "(EOF)"
   ]
  },
  {
   "cell_type": "markdown",
   "metadata": {},
   "source": [
    "TODO: Fix the following error"
   ]
  }
 ],
 "metadata": {
  "kernelspec": {
   "display_name": "Python 3",
   "language": "python",
   "name": "python3"
  },
  "language_info": {
   "codemirror_mode": {
    "name": "ipython",
    "version": 3
   },
   "file_extension": ".py",
   "mimetype": "text/x-python",
   "name": "python",
   "nbconvert_exporter": "python",
   "pygments_lexer": "ipython3",
   "version": "3.7.4"
  }
 },
 "nbformat": 4,
 "nbformat_minor": 2
}

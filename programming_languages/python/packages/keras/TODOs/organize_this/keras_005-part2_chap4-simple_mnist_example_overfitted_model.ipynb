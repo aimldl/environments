{
 "cells": [
  {
   "cell_type": "code",
   "execution_count": 1,
   "metadata": {},
   "outputs": [
    {
     "name": "stderr",
     "output_type": "stream",
     "text": [
      "Using TensorFlow backend.\n"
     ]
    },
    {
     "ename": "NameError",
     "evalue": "name 'CustomHistory' is not defined",
     "output_type": "error",
     "traceback": [
      "\u001b[1;31m---------------------------------------------------------------------------\u001b[0m",
      "\u001b[1;31mNameError\u001b[0m                                 Traceback (most recent call last)",
      "\u001b[1;32m<ipython-input-1-3dd8f54070a4>\u001b[0m in \u001b[0;36m<module>\u001b[1;34m()\u001b[0m\n\u001b[0;32m     56\u001b[0m \u001b[1;33m\u001b[0m\u001b[0m\n\u001b[0;32m     57\u001b[0m \u001b[1;31m# 4. 모델 학습 시키기\u001b[0m\u001b[1;33m\u001b[0m\u001b[1;33m\u001b[0m\u001b[0m\n\u001b[1;32m---> 58\u001b[1;33m \u001b[0mcustom_hist\u001b[0m \u001b[1;33m=\u001b[0m \u001b[0mCustomHistory\u001b[0m\u001b[1;33m(\u001b[0m\u001b[1;33m)\u001b[0m\u001b[1;33m\u001b[0m\u001b[0m\n\u001b[0m\u001b[0;32m     59\u001b[0m \u001b[0mcustom_hist\u001b[0m\u001b[1;33m.\u001b[0m\u001b[0minit\u001b[0m\u001b[1;33m(\u001b[0m\u001b[1;33m)\u001b[0m\u001b[1;33m\u001b[0m\u001b[0m\n\u001b[0;32m     60\u001b[0m \u001b[1;33m\u001b[0m\u001b[0m\n",
      "\u001b[1;31mNameError\u001b[0m: name 'CustomHistory' is not defined"
     ]
    }
   ],
   "source": [
    "# keras_005-part2_chap4-simple_mnist_example_overfitted_model\n",
    "#\n",
    "# 김태영, 블록과 함께 하는 파이썬 딥러닝 케라스\n",
    "# Part2. 딥러닝 개념잡기\n",
    "# Chapter4. 학습 조기종료 시키기\n",
    "# 2018-10-04 (목)\n",
    "\n",
    "# p.59, 1. 과정합되는 모델 살펴보기\n",
    "\n",
    "# 0. 사용할 패키지 불러오기\n",
    "import keras\n",
    "from keras.utils import np_utils\n",
    "from keras.datasets import mnist\n",
    "from keras.models import Sequential\n",
    "from keras.layers import Dense, Activation\n",
    "import numpy as np\n",
    "\n",
    "#1. 데이터셋 생성하기\n",
    "# 훈련셋과 시험셋 불러오기\n",
    "(x_train, y_train), (x_test, y_test) = mnist.load_data()\n",
    "\n",
    "# 훈련셋과 검증셋 분리\n",
    "x_val = x_train[50000:]\n",
    "y_val = y_train[50000:]\n",
    "x_train = x_train[:50000]\n",
    "y_train = y_train[:50000]\n",
    "\n",
    "# 데이터셋 전처리\n",
    "x_train = x_train.reshape(50000,784).astype('float32') / 255.0\n",
    "x_val = x_val.reshape(10000,784).astype('float32') / 255.0\n",
    "x_test = x_test.reshape(10000,784).astype('float32') / 255.0\n",
    "\n",
    "# 훈련셋과 검증셋 고르기\n",
    "# random indexs\n",
    "np.random.seed(3)\n",
    "train_rand_idxs = np.random.choice(5000,700)\n",
    "val_rand_idxs = np.random.choice(10000, 300)\n",
    "\n",
    "x_train = x_train[ train_rand_idxs ]\n",
    "y_train = y_train[ train_rand_idxs ]\n",
    "x_val = x_val[ val_rand_idxs ]\n",
    "y_val = y_val[ val_rand_idxs ]\n",
    "\n",
    "# 라벨데이터 one-hot encoding 처리\n",
    "y_train = np_utils.to_categorical( y_train )\n",
    "y_val = np_utils.to_categorical( y_val )\n",
    "y_test = np_utils.to_categorical( y_test )\n",
    "\n",
    "# 2. 모델 구성하기\n",
    "model = Sequential()\n",
    "model.add( Dense( units = 2, input_dim = 28*28, activation = 'relu') )\n",
    "model.add( Dense( units = 10, activation = 'softmax') )\n",
    "\n",
    "# 3. 모델 학습과정 설정하기\n",
    "model.compile( loss='categorical_crossentropy', optimizer='sgd', metrics=['accuracy'] )\n",
    "\n",
    "# 4. 모델 학습 시키기\n",
    "hist = model.fit( x_train, y_train, epochs = 500, batch_size = 10, validation_data = ( x_val, y_val ) )\n",
    "\n",
    "# 5. 학습과정 살펴보기\n",
    "%matplotlib inline\n",
    "import matplotlib.pyplot as plt\n",
    "\n",
    "fig, loss_ax = plt.subplots()\n",
    "acc_ax = loss_ax.twinx()\n",
    "\n",
    "loss_ax.plot( hist.history['loss'],'y', label='train loss')\n",
    "loss_ax.plot( hist.history['val_loss'],'r', label='validation loss')\n",
    "loss_ax.plot( hist.history['acc'],'y', label='train accuracy')\n",
    "loss_ax.plot( hist.history['val_acc'],'y', label='validation accuracy')\n",
    "\n",
    "loss_ax.set_xlabel( 'epoch' )\n",
    "loss_ax.set_ylabel( 'loss' )\n",
    "acc_ax.set_ylabel( 'accuracy' )\n",
    "\n",
    "loss_ax.legend( loc = 'upper left' )\n",
    "acc_ax.legend( loc = 'lower left' )\n",
    "\n",
    "plt.show()\n",
    "\n",
    "# 6. 모델 평가하기\n",
    "loss_and_metrics = model.evaluate( x_test, y_test, batch_size = 32 )\n",
    "\n",
    "print('')\n",
    "print('loss : ' + str( loss_and_metrics[0] ) )\n",
    "print('loss : ' + str( loss_and_metrics[1] ) )"
   ]
  },
  {
   "cell_type": "code",
   "execution_count": null,
   "metadata": {},
   "outputs": [],
   "source": []
  }
 ],
 "metadata": {
  "kernelspec": {
   "display_name": "Python 3",
   "language": "python",
   "name": "python3"
  },
  "language_info": {
   "codemirror_mode": {
    "name": "ipython",
    "version": 3
   },
   "file_extension": ".py",
   "mimetype": "text/x-python",
   "name": "python",
   "nbconvert_exporter": "python",
   "pygments_lexer": "ipython3",
   "version": "3.6.6"
  }
 },
 "nbformat": 4,
 "nbformat_minor": 2
}

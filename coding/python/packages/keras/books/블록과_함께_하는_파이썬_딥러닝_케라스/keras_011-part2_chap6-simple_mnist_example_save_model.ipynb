{
 "cells": [
  {
   "cell_type": "code",
   "execution_count": 2,
   "metadata": {},
   "outputs": [
    {
     "name": "stdout",
     "output_type": "stream",
     "text": [
      "Train on 42000 samples, validate on 18000 samples\n",
      "Epoch 1/5\n",
      "42000/42000 [==============================] - 2s 54us/step - loss: 0.7735 - acc: 0.8056 - val_loss: 0.4318 - val_acc: 0.8852\n",
      "Epoch 2/5\n",
      "42000/42000 [==============================] - 2s 45us/step - loss: 0.3836 - acc: 0.8960 - val_loss: 0.3426 - val_acc: 0.9047\n",
      "Epoch 3/5\n",
      "42000/42000 [==============================] - 2s 45us/step - loss: 0.3282 - acc: 0.9090 - val_loss: 0.3110 - val_acc: 0.9123\n",
      "Epoch 4/5\n",
      "42000/42000 [==============================] - 2s 45us/step - loss: 0.2984 - acc: 0.9164 - val_loss: 0.2903 - val_acc: 0.9184\n",
      "Epoch 5/5\n",
      "42000/42000 [==============================] - 2s 45us/step - loss: 0.2768 - acc: 0.9225 - val_loss: 0.2707 - val_acc: 0.9246\n",
      "10000/10000 [==============================] - 0s 19us/step\n",
      "\n",
      "loss : [0.25931973416805265, 0.93]\n"
     ]
    }
   ],
   "source": [
    "# keras_011-part2_chap6-simple_mnist_example_save_model\n",
    "#\n",
    "# 김태영, 블록과 함께 하는 파이썬 딥러닝 케라스\n",
    "# Part2. 딥러닝 개념잡기\n",
    "# Chapter6. 학습 모델 보기/저장하기/불러오기\n",
    "# 2018-10-04 (목)\n",
    "\n",
    "# 3. 학습된 모델 저장하기\n",
    "# p.89\n",
    "\n",
    "# 0. 사용할 패키지 불러오기\n",
    "from keras.utils import np_utils\n",
    "from keras.datasets import mnist\n",
    "from keras.models import Sequential\n",
    "from keras.layers import Dense, Activation\n",
    "import numpy as np\n",
    "from numpy import argmax\n",
    "\n",
    "#1. 데이터셋 생성하기\n",
    "# 훈련셋과 시험셋 불러오기\n",
    "(x_train, y_train), (x_test, y_test) = mnist.load_data()\n",
    "\n",
    "# 데이터셋 전처리\n",
    "x_train = x_train.reshape(60000,784).astype('float32') / 255.0\n",
    "x_test = x_test.reshape(10000,784).astype('float32') / 255.0\n",
    "\n",
    "# 라벨데이터 one-hot encoding 처리\n",
    "y_train = np_utils.to_categorical( y_train )\n",
    "y_test = np_utils.to_categorical( y_test )\n",
    "\n",
    "# 훈련셋과 검증셋 분리. 훈련셋의 30%를 검증셋으로 사용\n",
    "x_val = x_train[42000:]\n",
    "x_train = x_train[:42000]\n",
    "y_val = y_train[42000:]\n",
    "y_train = y_train[:42000]\n",
    "\n",
    "# 2. 모델 구성하기\n",
    "model = Sequential()\n",
    "model.add( Dense( units = 64, input_dim = 28*28, activation = 'relu') )\n",
    "model.add( Dense( units = 10, activation = 'softmax') )\n",
    "\n",
    "# 3. 모델 학습과정 설정하기\n",
    "model.compile( loss='categorical_crossentropy', optimizer='sgd', metrics=['accuracy'] )\n",
    "\n",
    "# 4. 모델 학습 시키기\n",
    "epochs_max = 5\n",
    "hist = model.fit( x_train, y_train, epochs = epochs_max, batch_size = 32, validation_data = ( x_val, y_val ) )\n",
    "\n",
    "# 5. 모델 평가하기\n",
    "loss_and_metrics = model.evaluate( x_test, y_test, batch_size = 32 )\n",
    "\n",
    "print('')\n",
    "print('loss : ' + str( loss_and_metrics ) )\n",
    "\n",
    "# 6. 모델 저장하기\n",
    "from keras.models import load_model\n",
    "model.save( 'mnist_mlp_model.h5' )"
   ]
  },
  {
   "cell_type": "code",
   "execution_count": null,
   "metadata": {},
   "outputs": [],
   "source": []
  }
 ],
 "metadata": {
  "kernelspec": {
   "display_name": "Python 3",
   "language": "python",
   "name": "python3"
  },
  "language_info": {
   "codemirror_mode": {
    "name": "ipython",
    "version": 3
   },
   "file_extension": ".py",
   "mimetype": "text/x-python",
   "name": "python",
   "nbconvert_exporter": "python",
   "pygments_lexer": "ipython3",
   "version": "3.6.6"
  }
 },
 "nbformat": 4,
 "nbformat_minor": 2
}

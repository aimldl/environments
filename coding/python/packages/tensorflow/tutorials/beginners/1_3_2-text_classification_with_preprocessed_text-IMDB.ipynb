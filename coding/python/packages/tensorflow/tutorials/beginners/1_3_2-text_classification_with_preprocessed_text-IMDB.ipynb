{
 "cells": [
  {
   "cell_type": "markdown",
   "metadata": {},
   "source": [
    "##### aimldl >python3 > packages > tensorflow > tutorials > beginners > 1_3_2-text_classification_with_preprocessed_text-IMDB.ipynb\n",
    "\n",
    "* This notebook is a replica of [Text classification with preprocessed text: Movie reviews](https://www.tensorflow.org/tutorials/keras/text_classification) with some comments.\n",
    "  * [TensorFlow](https://www.tensorflow.org/) > [Learn](https://www.tensorflow.org/learn) > [TensorFlow Core](https://www.tensorflow.org/overview) > [Tutorials](https://www.tensorflow.org/tutorials) > ML basics with Keras > [Text classification with preprocessed text](https://www.tensorflow.org/tutorials/keras/text_classification)\n",
    "* It is prerequisite to install TensorFlow 2.0 & Keras."
   ]
  },
  {
   "cell_type": "markdown",
   "metadata": {},
   "source": [
    "# Text classification with preprocessed text: Movie reviews"
   ]
  },
  {
   "cell_type": "markdown",
   "metadata": {},
   "source": [
    "This notebook classifies movie reviews as positive or negative using the text of the review. This is an example of binary—or two-class—classification, an important and widely applicable kind of machine learning problem.\n",
    "\n",
    "The tutorial demonstrates the basic application of transfer learning with TensorFlow Hub and Keras.\n",
    "\n",
    "We'll use the IMDB dataset that contains the text of 50,000 movie reviews from the Internet Movie Database. These are split into 25,000 reviews for training and 25,000 reviews for testing. The training and testing sets are balanced, meaning they contain an equal number of positive and negative reviews."
   ]
  },
  {
   "cell_type": "markdown",
   "metadata": {},
   "source": [
    "* The difference with [1_3_1-text_classification_with_TF_Hub-IMDB.ipynb](#1_3_1-text_classification_with_TF_Hub-IMDB.ipynb) is:\n",
    "  * Encoder is used:\n",
    "    * encoder = info.features['text'].encoder"
   ]
  },
  {
   "cell_type": "markdown",
   "metadata": {},
   "source": [
    "### Prerequisite: Install tensorflow-datasets"
   ]
  },
  {
   "cell_type": "code",
   "execution_count": 1,
   "metadata": {},
   "outputs": [],
   "source": [
    "!pip install -q tensorflow-datasets"
   ]
  },
  {
   "cell_type": "markdown",
   "metadata": {},
   "source": [
    "### Setup / Import Modules"
   ]
  },
  {
   "cell_type": "code",
   "execution_count": 59,
   "metadata": {},
   "outputs": [
    {
     "name": "stdout",
     "output_type": "stream",
     "text": [
      "Version:  2.0.0\n"
     ]
    }
   ],
   "source": [
    "from __future__ import absolute_import, division, print_function, unicode_literals\n",
    "\n",
    "import numpy as np\n",
    "import tensorflow as tf\n",
    "from tensorflow import keras\n",
    "import tensorflow_datasets as tfds\n",
    "\n",
    "print(\"Version: \", tf.__version__)\n",
    "#print(\"Eager mode: \", tf.executing_eagerly())\n",
    "#print(\"GPU is\", \"available\" if tf.config.experimental.list_physical_devices(\"GPU\") else \"NOT AVAILABLE\")\n",
    "tfds.disable_progress_bar()"
   ]
  },
  {
   "cell_type": "markdown",
   "metadata": {},
   "source": [
    "### Download the IMDB dataset\n",
    "Refer to [1_3_1-text_classification_with_TF_Hub.ipynb](#1_3_1-text_classification_with_TF_Hub.ipynb) which explains tfds.load and the options except with_info. If with_info is True, tfds.load returns the tuple of (tf.data.Dataset, tfds.core.DatasetInfo)."
   ]
  },
  {
   "cell_type": "code",
   "execution_count": 3,
   "metadata": {},
   "outputs": [],
   "source": [
    "(train_data, test_data), info = tfds.load(\n",
    "    # Use the version pre-encoded with an ~8k vocabulary.\n",
    "    'imdb_reviews/subwords8k', \n",
    "    # Return the train/test datasets as a tuple.\n",
    "    split = (tfds.Split.TRAIN, tfds.Split.TEST),\n",
    "    # Return (example, label) pairs from the dataset (instead of a dictionary).\n",
    "    as_supervised=True,\n",
    "    # Also return the `info` structure. \n",
    "    with_info=True)"
   ]
  },
  {
   "cell_type": "markdown",
   "metadata": {},
   "source": [
    "The last message specifies the location of the downloaded data:\n",
    "> Dataset imdb_reviews downloaded and prepared to /home/aimldl/tensorflow_datasets/imdb_reviews/subwords8k/0.1.0\n",
    "\n",
    "Notice name='imdb_reviews' is saved to\n",
    "> /home/aimldl/tensorflow_datasets/imdb_reviews/plain_text/0.1.0"
   ]
  },
  {
   "cell_type": "markdown",
   "metadata": {},
   "source": [
    "### Try the encoder\n",
    "\"info\" has a lot of information."
   ]
  },
  {
   "cell_type": "code",
   "execution_count": 7,
   "metadata": {},
   "outputs": [
    {
     "data": {
      "text/plain": [
       "tfds.core.DatasetInfo(\n",
       "    name='imdb_reviews',\n",
       "    version=0.1.0,\n",
       "    description='Large Movie Review Dataset.\n",
       "This is a dataset for binary sentiment classification containing substantially more data than previous benchmark datasets. We provide a set of 25,000 highly polar movie reviews for training, and 25,000 for testing. There is additional unlabeled data for use as well.',\n",
       "    urls=['http://ai.stanford.edu/~amaas/data/sentiment/'],\n",
       "    features=FeaturesDict({\n",
       "        'label': ClassLabel(shape=(), dtype=tf.int64, num_classes=2),\n",
       "        'text': Text(shape=(None,), dtype=tf.int64, encoder=<SubwordTextEncoder vocab_size=8185>),\n",
       "    }),\n",
       "    total_num_examples=100000,\n",
       "    splits={\n",
       "        'test': 25000,\n",
       "        'train': 25000,\n",
       "        'unsupervised': 50000,\n",
       "    },\n",
       "    supervised_keys=('text', 'label'),\n",
       "    citation=\"\"\"@InProceedings{maas-EtAl:2011:ACL-HLT2011,\n",
       "      author    = {Maas, Andrew L.  and  Daly, Raymond E.  and  Pham, Peter T.  and  Huang, Dan  and  Ng, Andrew Y.  and  Potts, Christopher},\n",
       "      title     = {Learning Word Vectors for Sentiment Analysis},\n",
       "      booktitle = {Proceedings of the 49th Annual Meeting of the Association for Computational Linguistics: Human Language Technologies},\n",
       "      month     = {June},\n",
       "      year      = {2011},\n",
       "      address   = {Portland, Oregon, USA},\n",
       "      publisher = {Association for Computational Linguistics},\n",
       "      pages     = {142--150},\n",
       "      url       = {http://www.aclweb.org/anthology/P11-1015}\n",
       "    }\"\"\",\n",
       "    redistribution_info=,\n",
       ")"
      ]
     },
     "execution_count": 7,
     "metadata": {},
     "output_type": "execute_result"
    }
   ],
   "source": [
    "info"
   ]
  },
  {
   "cell_type": "code",
   "execution_count": 8,
   "metadata": {},
   "outputs": [
    {
     "data": {
      "text/plain": [
       "tensorflow_datasets.core.dataset_info.DatasetInfo"
      ]
     },
     "execution_count": 8,
     "metadata": {},
     "output_type": "execute_result"
    }
   ],
   "source": [
    "type( info )"
   ]
  },
  {
   "cell_type": "code",
   "execution_count": 11,
   "metadata": {},
   "outputs": [
    {
     "ename": "TypeError",
     "evalue": "'FeaturesDict' object is not callable",
     "output_type": "error",
     "traceback": [
      "\u001b[0;31m---------------------------------------------------------------------------\u001b[0m",
      "\u001b[0;31mTypeError\u001b[0m                                 Traceback (most recent call last)",
      "\u001b[0;32m<ipython-input-11-b7a05304383e>\u001b[0m in \u001b[0;36m<module>\u001b[0;34m\u001b[0m\n\u001b[0;32m----> 1\u001b[0;31m \u001b[0minfo\u001b[0m\u001b[0;34m.\u001b[0m\u001b[0mfeatures\u001b[0m\u001b[0;34m(\u001b[0m\u001b[0;34m'name'\u001b[0m\u001b[0;34m)\u001b[0m\u001b[0;34m\u001b[0m\u001b[0;34m\u001b[0m\u001b[0m\n\u001b[0m",
      "\u001b[0;31mTypeError\u001b[0m: 'FeaturesDict' object is not callable"
     ]
    }
   ],
   "source": [
    "info.features('name')"
   ]
  },
  {
   "cell_type": "markdown",
   "metadata": {},
   "source": [
    "The dataset info includes the text encoder (tfds.features.text.SubwordTextEncoder)."
   ]
  },
  {
   "cell_type": "code",
   "execution_count": 14,
   "metadata": {},
   "outputs": [
    {
     "data": {
      "text/plain": [
       "tensorflow_datasets.core.features.text.subword_text_encoder.SubwordTextEncoder"
      ]
     },
     "execution_count": 14,
     "metadata": {},
     "output_type": "execute_result"
    }
   ],
   "source": [
    "encoder = info.features['text'].encoder\n",
    "type( encoder )"
   ]
  },
  {
   "cell_type": "code",
   "execution_count": 15,
   "metadata": {},
   "outputs": [
    {
     "data": {
      "text/plain": [
       "<SubwordTextEncoder vocab_size=8185>"
      ]
     },
     "execution_count": 15,
     "metadata": {},
     "output_type": "execute_result"
    }
   ],
   "source": [
    "encoder"
   ]
  },
  {
   "cell_type": "code",
   "execution_count": 16,
   "metadata": {},
   "outputs": [
    {
     "name": "stdout",
     "output_type": "stream",
     "text": [
      "Vocabulary size: 8185\n"
     ]
    }
   ],
   "source": [
    "print ('Vocabulary size: {}'.format(encoder.vocab_size))"
   ]
  },
  {
   "cell_type": "markdown",
   "metadata": {},
   "source": [
    "### Examples to Encode & Decode a Text\n",
    "An example text is encoded and decoded. Note the decoded string is the same as the input string."
   ]
  },
  {
   "cell_type": "code",
   "execution_count": 27,
   "metadata": {},
   "outputs": [
    {
     "name": "stdout",
     "output_type": "stream",
     "text": [
      "Sample string is Hello TensorFlow.\n",
      "Encoded string is [4025, 222, 6307, 2327, 4043, 2120, 7975]\n",
      "The decoded string: \"Hello TensorFlow.\"\n"
     ]
    }
   ],
   "source": [
    "sample_string = 'Hello TensorFlow.'\n",
    "\n",
    "encoded_string = encoder.encode(sample_string)\n",
    "print ('Sample string is {}'.format(sample_string))\n",
    "print ('Encoded string is {}'.format(encoded_string))\n",
    "\n",
    "decoded_string = encoder.decode(encoded_string)\n",
    "print ('The decoded string: \"{}\"'.format(decoded_string))\n",
    "\n",
    "assert decoded_string == sample_string"
   ]
  },
  {
   "cell_type": "code",
   "execution_count": 28,
   "metadata": {},
   "outputs": [
    {
     "name": "stdout",
     "output_type": "stream",
     "text": [
      "4025 ----> Hell\n",
      "222 ----> o \n",
      "6307 ----> Ten\n",
      "2327 ----> sor\n",
      "4043 ----> Fl\n",
      "2120 ----> ow\n",
      "7975 ----> .\n"
     ]
    }
   ],
   "source": [
    "for ts in encoded_string:\n",
    "  print ('{} ----> {}'.format(ts, encoder.decode([ts])))"
   ]
  },
  {
   "cell_type": "markdown",
   "metadata": {},
   "source": [
    "Another example is presented and this input is decoded correctly because all the vocabulary in the input string is within the range of the encoder's vocabulary."
   ]
  },
  {
   "cell_type": "code",
   "execution_count": 19,
   "metadata": {},
   "outputs": [
    {
     "name": "stdout",
     "output_type": "stream",
     "text": [
      "Input string is Another sentence is added here\n",
      "Encoded string is [1646, 7745, 7961, 9, 2843, 286]\n",
      "The decoded string: \"Another sentence is added here\"\n"
     ]
    }
   ],
   "source": [
    "input_string = 'Another sentence is added here'\n",
    "\n",
    "encoded_string = encoder.encode(input_string)\n",
    "decoded_string = encoder.decode(encoded_string)\n",
    "\n",
    "print ('Input string is {}'.format(input_string))\n",
    "print ('Encoded string is {}'.format(encoded_string))\n",
    "print ('The decoded string: \"{}\"'.format(decoded_string))"
   ]
  },
  {
   "cell_type": "markdown",
   "metadata": {},
   "source": [
    "\"Kiwi\" is a rarely used word. Let's see how this can be encoded."
   ]
  },
  {
   "cell_type": "code",
   "execution_count": 22,
   "metadata": {},
   "outputs": [
    {
     "name": "stdout",
     "output_type": "stream",
     "text": [
      "Input string is Kiwi is a bird which can not fly. So it exticnted when human showed up.\n",
      "Encoded string is [2051, 1060, 7961, 9, 4, 4698, 7961, 73, 83, 33, 8031, 124, 3, 392, 15, 2769, 586, 6124, 72, 607, 2289, 306, 7975]\n",
      "The decoded string: \"Kiwi is a bird which can not fly. So it exticnted when human showed up.\"\n"
     ]
    }
   ],
   "source": [
    "input_string = 'Kiwi is a bird which can not fly. So it exticnted when human showed up.'\n",
    "\n",
    "encoded_string = encoder.encode(input_string)\n",
    "decoded_string = encoder.decode(encoded_string)\n",
    "\n",
    "print ('Input string is {}'.format(input_string))\n",
    "print ('Encoded string is {}'.format(encoded_string))\n",
    "print ('The decoded string: \"{}\"'.format(decoded_string))"
   ]
  },
  {
   "cell_type": "markdown",
   "metadata": {},
   "source": [
    "Surprisingly, this word is also encoded while the vocabulary size is as small as 8185. Why?\n",
    "> The encoder encodes the string by breaking it into subwords or characters if the word is not in its dictionary. So the more a string resembles the dataset, the shorter the encoded representation will be."
   ]
  },
  {
   "cell_type": "code",
   "execution_count": 23,
   "metadata": {},
   "outputs": [
    {
     "name": "stdout",
     "output_type": "stream",
     "text": [
      "Input string is Kiwi\n",
      "Encoded string is [2051, 1060]\n",
      "The decoded string: \"Kiwi\"\n"
     ]
    }
   ],
   "source": [
    "input_string = 'Kiwi'\n",
    "\n",
    "encoded_string = encoder.encode(input_string)\n",
    "decoded_string = encoder.decode(encoded_string)\n",
    "\n",
    "print ('Input string is {}'.format(input_string))\n",
    "print ('Encoded string is {}'.format(encoded_string))\n",
    "print ('The decoded string: \"{}\"'.format(decoded_string))"
   ]
  },
  {
   "cell_type": "code",
   "execution_count": 26,
   "metadata": {},
   "outputs": [
    {
     "name": "stdout",
     "output_type": "stream",
     "text": [
      "[2051] is: \"Ki\"\n",
      "[1060] is: \"wi\"\n"
     ]
    }
   ],
   "source": [
    "print ('[2051] is: \"{}\"'.format( encoder.decode([2051]) ))\n",
    "print ('[1060] is: \"{}\"'.format( encoder.decode([1060]) ))"
   ]
  },
  {
   "cell_type": "markdown",
   "metadata": {},
   "source": [
    "### Explore the data\n",
    "#### 0 -> Negative & 1 -> Positive\n",
    "The label is either 0 or 1 where 0 is a negative review and 1 is a positive review. "
   ]
  },
  {
   "cell_type": "code",
   "execution_count": 29,
   "metadata": {},
   "outputs": [
    {
     "name": "stdout",
     "output_type": "stream",
     "text": [
      "Encoded text: [ 249    4  277  309  560    6 6639 4574    2   12]\n",
      "Label: 1\n"
     ]
    }
   ],
   "source": [
    "for train_example, train_label in train_data.take(1):\n",
    "  print('Encoded text:', train_example[:10].numpy())\n",
    "  print('Label:', train_label.numpy())"
   ]
  },
  {
   "cell_type": "code",
   "execution_count": 30,
   "metadata": {},
   "outputs": [
    {
     "data": {
      "text/plain": [
       "<TakeDataset shapes: ((None,), ()), types: (tf.int64, tf.int64)>"
      ]
     },
     "execution_count": 30,
     "metadata": {},
     "output_type": "execute_result"
    }
   ],
   "source": [
    "train_data.take(1)"
   ]
  },
  {
   "cell_type": "code",
   "execution_count": 37,
   "metadata": {},
   "outputs": [
    {
     "data": {
      "text/plain": [
       "<tf.Tensor: id=12385, shape=(10,), dtype=int64, numpy=array([ 249,    4,  277,  309,  560,    6, 6639, 4574,    2,   12])>"
      ]
     },
     "execution_count": 37,
     "metadata": {},
     "output_type": "execute_result"
    }
   ],
   "source": [
    "train_example[:10]"
   ]
  },
  {
   "cell_type": "code",
   "execution_count": 43,
   "metadata": {},
   "outputs": [
    {
     "data": {
      "text/plain": [
       "array([ 249,    4,  277,  309,  560,    6, 6639, 4574,    2,   12])"
      ]
     },
     "execution_count": 43,
     "metadata": {},
     "output_type": "execute_result"
    }
   ],
   "source": [
    "train_example[:10].numpy()"
   ]
  },
  {
   "cell_type": "code",
   "execution_count": 38,
   "metadata": {},
   "outputs": [
    {
     "data": {
      "text/plain": [
       "<tf.Tensor: id=133, shape=(), dtype=int64, numpy=1>"
      ]
     },
     "execution_count": 38,
     "metadata": {},
     "output_type": "execute_result"
    }
   ],
   "source": [
    "train_label"
   ]
  },
  {
   "cell_type": "code",
   "execution_count": 33,
   "metadata": {},
   "outputs": [
    {
     "data": {
      "text/plain": [
       "'As a lifelong fan of Dickens, I '"
      ]
     },
     "execution_count": 33,
     "metadata": {},
     "output_type": "execute_result"
    }
   ],
   "source": [
    "encoder.decode(train_example[:10])"
   ]
  },
  {
   "cell_type": "code",
   "execution_count": 36,
   "metadata": {},
   "outputs": [
    {
     "data": {
      "text/plain": [
       "<tf.Tensor: id=132, shape=(855,), dtype=int64, numpy=\n",
       "array([ 249,    4,  277,  309,  560,    6, 6639, 4574,    2,   12,   31,\n",
       "       7759, 3525, 2128,   93, 2306,   43, 2312, 2527,    6,   30, 1334,\n",
       "       8044,   24,   10,   16,   10,   17,  977,   30,  815, 3339,   41,\n",
       "        841, 7911,  376, 7974, 1923,    6,  607,  219,   44,  242, 1603,\n",
       "         11, 4329,  102, 2821, 1139,    2,  969,  161,   51,   18,    4,\n",
       "       5844, 2820,  123, 4493,   40,    6, 4571,   13,  117,   35,  289,\n",
       "        850,  455,   50,  460, 6359, 1069,  343,   20,    1, 3733, 3511,\n",
       "       7670,    3,  147,    4,  336,    2,   42,   18,    4, 3422,  409,\n",
       "       3533,  871, 2836,  311,    5, 5080, 1209,    3,  183,  117,   35,\n",
       "       1187,    5, 1955,   11,    1,  226, 7745,    3,  183, 1466, 7359,\n",
       "       7961, 1466,  665,    2, 6854, 3178, 1377, 6266, 1447,  297,    2,\n",
       "       5797,   36, 4740,  847, 8050,    2,    5, 1929, 1631, 5986,   22,\n",
       "       5541, 5688,    5, 1036, 3746, 8050,    3,   69,  264,   35,    4,\n",
       "       4224,    2,   26,   42,   18,    4,  474, 7968,    8, 1626,   24,\n",
       "         10,   16,   10,   17,  134,   15,    9,    1,  435,   13,    9,\n",
       "         55,  598, 2357,   48,   30, 6611, 8044,    3,  500,    1,  101,\n",
       "          6, 2793,    2, 6548, 7961, 5861,  311,    9,  139, 5398, 2270,\n",
       "         11, 3674, 1642,   25, 7796, 7961, 5012,    3,  404,    6,    1,\n",
       "        495, 2632,    5, 5550,  353,    9,  181,  741,    2,   26, 7297,\n",
       "          6,    1, 7890, 8043,    2, 6452, 8050,    2,    5, 6082,  626,\n",
       "       6854, 3178, 1064, 8050,    3,   19, 2227,    9,   56,    4, 1593,\n",
       "          2, 5366,  194, 2808,  106,    1,   98, 1451, 1377,   43,    4,\n",
       "       7757, 1203,  316,   89,    4, 1334, 1209,    3,  135, 7968,    8,\n",
       "         33,   81, 6639, 7837,   44,  208,   24,   10,   16,   10,   17,\n",
       "       7968, 6548, 7962, 1251,   25,    1,  108,  778,    2,    9,   97,\n",
       "       7269, 7961,    7,    1, 1961,    3,   19, 7483, 2632,    6, 7255,\n",
       "       5365,    9, 2125,  652, 4831,  104,    2,   48,    1, 2880, 1477,\n",
       "         34, 1992, 1577, 7961,    7,    1, 6064,  360, 2387, 1209, 2356,\n",
       "          3,   19,  724, 1882, 7974,  177,  256,    1, 1992, 1577, 7961,\n",
       "          5, 4022, 5062,  863,    2,   11,   73,    1, 5758,    9, 6460,\n",
       "        453,  130,    4, 1668,    2,    4, 2403,  120,  538, 7968,   21,\n",
       "         31,   93,  193, 1257,    3, 3371,  713, 6626,   49,    9,   41,\n",
       "       5234, 7961, 3864,   24,   10,   16,   10,   17,  128,    1, 3246,\n",
       "        858, 5550,  353,    9,  114,  224,    2,    1, 2398,  339, 2493,\n",
       "       3553, 2975,    6,    1, 2696,    2,    1, 1183, 8029,    2, 4967,\n",
       "       1274,    2, 1036, 3746,   47,    5, 5541, 5688,   29,   51, 3339,\n",
       "         56,   20, 3608,   20,   19, 5057, 7961,   70,   31, 5324, 8029,\n",
       "         24,   10,   16,   10,   17,  134,  144,   91,    9, 3498,    3,\n",
       "       3669, 7961, 1325, 1093,   47,    9,    4, 7046, 7961,   20,    1,\n",
       "       5224,   47, 4296,  967,  633, 1074,    2, 6279, 6548, 7961, 4438,\n",
       "         40,   57, 2408, 2811, 5848,    7, 1506,  334,   24,   10,   16,\n",
       "         10,   17, 2130,   33, 6241, 6007,  124,    2, 5863, 4685, 1397,\n",
       "       8045,   95,  546,    4, 4296, 7961,   48, 7449, 7968,    8, 2236,\n",
       "       8045, 7974,  272,   95,  379,    4,  763, 3347,   47,   22, 1379,\n",
       "       1004, 7961,   43,  376, 7974,  652, 4831,   34,  138,   20,    4,\n",
       "         97,   68, 2902,  899,  102, 3595,   89,   18, 6639,  413, 7968,\n",
       "          8,  787,    3,  147,    1, 1334,    2,   42,   18, 2577, 7878,\n",
       "       6455, 1344,    2, 5782,   34,   63,    6,   30,  285, 2754,    7,\n",
       "          1, 3130,  863,    8,   11, 1147,    7, 3563, 7961, 1431,   28,\n",
       "        271,   42,   18,  114, 2135,    5, 6161, 8029,  158, 3056, 3950,\n",
       "          8,   11,    1,   65,    2,   42,    9, 3339,   20,  195,    6,\n",
       "          4,  336, 5803,  810, 7974, 6770, 8030,    2,    4,  599,    6,\n",
       "       7028, 2684,  352, 2040, 6491,  316,   89,    4, 5147,  125,    6,\n",
       "       1515,    2,    1, 4812,  139,    4,  933, 7974, 5568, 1339, 7974,\n",
       "       5299,  812, 1621,  166,  475,    3, 4976, 1858,    2,   67,  214,\n",
       "        763, 3347,  440,   29,  949,   22, 6639, 4574, 7968,    8,  787,\n",
       "          3,  404,    6,    1,  107, 2140, 1588,   29, 5760, 2073,    3,\n",
       "        768,  302, 6054,   49,    5, 1665,    9, 2322, 1139,   36,    7,\n",
       "       4746,  182, 3733, 1463, 4662,  353, 6279,   44,    1,  226,  101,\n",
       "       7033, 2117,   23, 1515,  120, 4735, 5210, 2701,  190,    3, 6071,\n",
       "       7961,    9,  176, 2145,  360,    7, 1537,    2,  894, 1383, 6708,\n",
       "         49, 5788, 1990,   64, 2736,    8, 1808, 2153,  100,    2,    5,\n",
       "       2408, 2811, 5848,  265,    4, 6720,   64, 5764, 1868, 7974, 7689,\n",
       "       2842,   24,   10,   16,   10,   17, 2478, 1739,    9, 2097,    2,\n",
       "        271,   53,  110, 1336,  557, 1692, 1370, 2089, 3793,    3, 4312,\n",
       "       2407,  895, 2026, 6924,   30, 3870,  124,    3, 3266,   30,    5,\n",
       "         82, 4370,  211,    9,    1,   45,   11,   73,    1,  386,  327,\n",
       "       6905,  254,  130,   46,   96, 3972, 1581,  135, 7968,    8, 1370,\n",
       "       2089, 3793, 8050,    2,   26,   39, 7968,    8, 6639, 7837,  192,\n",
       "          5, 1884,   24,   10,   16,   10,   17,   12,  117,  186,  136,\n",
       "          3,   12,  117, 2215,  228,    1,  650, 1771, 7974, 3642, 8044,\n",
       "          2,    1, 4129, 7961,    6,    1, 2186,    5, 2234,    3,  173,\n",
       "          9, 1382, 7974,  887,  188,   48,   68, 1127, 4388, 3305,    8,\n",
       "         89,   37,  117, 3977,   49,    4, 2797,  565,   24,   10,   16,\n",
       "         10,   17,   12, 3784,   21,    7,  257,   15,  467, 4854,    2,\n",
       "         26, 8002, 7968,  111,  861,   68,   52, 6690,  766,  837, 1076,\n",
       "          3,  699, 3942,   15,   76,   22,  155, 2400, 3045, 1064,    3,\n",
       "        684,  314,   57,   93,  193, 5418, 8029, 7975])>"
      ]
     },
     "execution_count": 36,
     "metadata": {},
     "output_type": "execute_result"
    }
   ],
   "source": [
    "train_example"
   ]
  },
  {
   "cell_type": "code",
   "execution_count": 34,
   "metadata": {},
   "outputs": [
    {
     "data": {
      "text/plain": [
       "\"As a lifelong fan of Dickens, I have invariably been disappointed by adaptations of his novels.<br /><br />Although his works presented an extremely accurate re-telling of human life at every level in Victorian Britain, throughout them all was a pervasive thread of humour that could be both playful or sarcastic as the narrative dictated. In a way, he was a literary caricaturist and cartoonist. He could be serious and hilarious in the same sentence. He pricked pride, lampooned arrogance, celebrated modesty, and empathised with loneliness and poverty. It may be a cliché, but he was a people's writer.<br /><br />And it is the comedy that is so often missing from his interpretations. At the time of writing, Oliver Twist is being dramatised in serial form on BBC television. All of the misery and cruelty is their, but non of the humour, irony, and savage lampoonery. The result is just a dark, dismal experience: the story penned by a journalist rather than a novelist. It's not really Dickens at all.<br /><br />'Oliver!', on the other hand, is much closer to the mark. The mockery of officialdom is perfectly interpreted, from the blustering beadle to the drunken magistrate. The classic stand-off between the beadle and Mr Brownlow, in which the law is described as 'a ass, a idiot' couldn't have been better done. Harry Secombe is an ideal choice.<br /><br />But the blinding cruelty is also there, the callous indifference of the state, the cold, hunger, poverty and loneliness are all presented just as surely as The Master would have wished.<br /><br />And then there is crime. Ron Moody is a treasure as the sleazy Jewish fence, whilst Oliver Reid has Bill Sykes to perfection.<br /><br />Perhaps not surprisingly, Lionel Bart - himself a Jew from London's east-end - takes a liberty with Fagin by re-interpreting him as a much more benign fellow than was Dicken's original. In the novel, he was utterly ruthless, sending some of his own boys to the gallows in order to protect himself (though he was also caught and hanged). Whereas in the movie, he is presented as something of a wayward father-figure, a sort of charitable thief rather than a corrupter of children, the latter being a long-standing anti-semitic sentiment. Otherwise, very few liberties are taken with Dickens's original. All of the most memorable elements are included. Just enough menace and violence is retained to ensure narrative fidelity whilst at the same time allowing for children' sensibilities. Nancy is still beaten to death, Bullseye narrowly escapes drowning, and Bill Sykes gets a faithfully graphic come-uppance.<br /><br />Every song is excellent, though they do incline towards schmaltz. Mark Lester mimes his wonderfully. Both his and my favourite scene is the one in which the world comes alive to 'who will buy'. It's schmaltzy, but it's Dickens through and through.<br /><br />I could go on. I could commend the wonderful set-pieces, the contrast of the rich and poor. There is top-quality acting from more British regulars than you could shake a stick at.<br /><br />I ought to give it 10 points, but I'm feeling more like Scrooge today. Soak it up with your Christmas dinner. No original has been better realised.\""
      ]
     },
     "execution_count": 34,
     "metadata": {},
     "output_type": "execute_result"
    }
   ],
   "source": [
    "encoder.decode( train_example )"
   ]
  },
  {
   "cell_type": "markdown",
   "metadata": {},
   "source": [
    "Can you read the review and see if this review is positive? The review starts off from disappointment, but ends up giving 10 points. So this review is positive of which label is 1."
   ]
  },
  {
   "cell_type": "markdown",
   "metadata": {},
   "source": [
    "### Prepare the data for training\n",
    "> You will want to create batches of training data for your model. The reviews are all different lengths, so use padded_batch to zero pad the sequences while batching:"
   ]
  },
  {
   "cell_type": "code",
   "execution_count": 46,
   "metadata": {},
   "outputs": [],
   "source": [
    "BUFFER_SIZE = 1000\n",
    "train_batches = ( train_data\n",
    "                  .shuffle(BUFFER_SIZE)\n",
    "                  .padded_batch(32, train_data.output_shapes))\n",
    "\n",
    "test_batches = ( test_data\n",
    "                 .padded_batch(32, train_data.output_shapes))"
   ]
  },
  {
   "cell_type": "code",
   "execution_count": 47,
   "metadata": {},
   "outputs": [
    {
     "name": "stdout",
     "output_type": "stream",
     "text": [
      "Batch shape: (32, 1283)\n",
      "label shape: (32,)\n",
      "Batch shape: (32, 971)\n",
      "label shape: (32,)\n"
     ]
    }
   ],
   "source": [
    "for example_batch, label_batch in train_batches.take(2):\n",
    "  print(\"Batch shape:\", example_batch.shape)\n",
    "  print(\"label shape:\", label_batch.shape)"
   ]
  },
  {
   "cell_type": "markdown",
   "metadata": {},
   "source": [
    "There are 32 labels in the first batch which is specified by \".padded_batch(32, ...)\"."
   ]
  },
  {
   "cell_type": "code",
   "execution_count": 51,
   "metadata": {},
   "outputs": [
    {
     "name": "stdout",
     "output_type": "stream",
     "text": [
      "32\n",
      "tf.Tensor([1 1 0 1 1 1 0 1 0 0 0 0 0 0 0 1 1 0 1 0 1 0 0 1 0 0 0 1 0 0 0 1], shape=(32,), dtype=int64)\n"
     ]
    }
   ],
   "source": [
    "for example_batch, label_batch in train_batches.take(1):\n",
    "    print( len( label_batch) )\n",
    "    print( label_batch )"
   ]
  },
  {
   "cell_type": "markdown",
   "metadata": {},
   "source": [
    "Like the number of labels, there are 32 examples in the first batch. The length of each example is 974. Each token is encoded to an integer. Note an example with less number of tokens than 974 is padded with zero."
   ]
  },
  {
   "cell_type": "code",
   "execution_count": 56,
   "metadata": {},
   "outputs": [
    {
     "name": "stdout",
     "output_type": "stream",
     "text": [
      "32\n",
      "(32, 974)\n",
      "tf.Tensor(\n",
      "[ 133  366    7  210   32   73 1925 3639   25    1  176 5844 2820  123\n",
      " 6200 6291 7961    6 4928 5371 1817 3827  807 2631 7961   20    4 1786\n",
      " 3131 7961 2240    3 2294  428   28   20 3760   58  511    4 4457   26\n",
      " 7544  551  770 1529 2896  350 2393    6    1 2755 2002 6800  102 4928\n",
      " 3185    2    1 3533  871 1337 3827  807 2631 7961  143  253   20    1\n",
      "  213  204    3 2654 2354 8033    2   20 1060   64 3477   47 5658 7961\n",
      " 6878 1231 3202 8033    2   46 2005  957  462 3827  807 2631 7961   44\n",
      "    1 3477   47 4090 2309   11 2782 7981    2    9   67  248    2   20\n",
      " 5995   24   10   16   10   17  147  823    2 3827  807 2631 7961    5\n",
      "  814 7148 7961   85  236  335   11 3696 1267   60    1 3444 7887 7644\n",
      "  353 2583   11    1 3477 8050    2    5    1 2782  764 3477   47 4090\n",
      " 2309 1436  413 3721 4620   11    1 4472 3354 3115  102  427   43    1\n",
      " 3477   47    7 1962 4689 7961    1 6058   25  385   48   79 7644  353\n",
      " 3214 3052    2   73    1 3803 5066 7961   85 6058  269    2   43 5551\n",
      " 7974 7028 1610   13 3827  807 2631 7961    5  814 7148 7961   85  337\n",
      "    7   92 7213    8   23   79 1100 3553    2  948 1290  736    2 6279\n",
      "   11    1 5534   24   10   16   10   17   19   32    9 3504 4120 1338\n",
      "  595 2239 7961 6673 3234 7718 8028    2  659   11    1 5844 2820  123\n",
      " 6200    8   73   31 6712   23    1 2870   22  143  121   23 2292 8044\n",
      " 7974   13  181   38  721 2276 8030   54   18 6489 4217   47    5 3827\n",
      "  807 2631    2 8001 8014 4411 7961  672 7961   85  278  886 6319 7961\n",
      "  385   44    1  978 4213 8044    2  139   84   68   89  124  100    2\n",
      " 1744 1245 5790 4808  472 4942  941 8044    2   46   85  993 4568   34\n",
      "  169    1 5855   39 1989 2698  157  638    8    6 1680  859 3508 7107\n",
      " 1416    2   46   85 6168   36    6  139 7644  353 5808 8044 7976 2215\n",
      " 1513  447 8044   24   10   16   10   17 3248   46  164  150   60    1\n",
      " 1217  176  304 7558  319   11 5327   34  495 4772   25 3827  807 2631\n",
      " 7961    5  181   38  721 2276 8030   54    7   14  606 7974 3490  204\n",
      " 8050 7968    8 3209 4682  783  786 7254 1065 2631 7961    9   41 1213\n",
      "    3   19  495 4772    9 5844 2820  330    2   84 1037  121   31 3089\n",
      " 5485   36   39    3  133 2246 1035   15    6 5562   40 1290 1005 4308\n",
      "   11    1 1187  426 2117 5935 7961 5306 6050   38   19 2903 1073 1164\n",
      "   54 1014  918   40   13    1  578 1626   38 1273 1249 8044   54 7963\n",
      "    7 3827  807 2631 7963  424 7532  561 2168  498    1 2249   13 3827\n",
      "  807 2631   38 6453  104   54  578   20  716    6 8001 8014 4411 7974\n",
      "    1 2870  139   13 3827  807 2631 7961   18  140   78    4 4499    6\n",
      " 8001 8014 4411 7961    5   42   80  150 1303   11    1 7056 7961    6\n",
      "  578 3462 8044 7974   30 6058 1086   85 5461 1377  281 1262 5422 4690\n",
      "    7 1579    8    6    1 2552 7834  503   24   10   16   10   17   19\n",
      " 6200 6291 7961   60  181   38  721 2276 8030   54  139 2600  200    9\n",
      "  338  446 2745 1283   43 2523 7295   40  699 5325   21    5 2552 4506\n",
      " 4601 8044    2   75  332 3827  807 2631 7961    5 5025  911  847 1468\n",
      " 1126    1 5626 5948 7961    6  699 5325   21    5 3595 3007 2798 2027\n",
      " 7541 5250   11    1 1580    2   26 2292    8    6 2856  495 4772   60\n",
      "   14 2271   96   35  366    7 3183   24   10   16   10   17  373  414\n",
      "  594   63   81 5640 7961  578 5839   96  115    4   27 1923    1 2870\n",
      "   60  113  143  405  571    5  707 1578 3255 7387 2054 6465   36    1\n",
      " 3616 7961 6201 7961 1454 2262    2    5 1862    7 5607   49   30 1937\n",
      " 2973 6882    6 4506   25    1 4413  562    2 1094   41 7911 4276 7961\n",
      "  594    6 1817 3827  807 2631 7968    8 1956 7974   26   12  548 7968\n",
      "   21 1650   82 2039    3  900  243 1259    2  103   31   14 6200 5170\n",
      "    2 6064  360 5983 2002 1247 6651 7961    6 2328 2996 7961   55 2456\n",
      "   11    1 1949 8026 1129 7963  817 2585 2574 2253 3760 2760    0    0\n",
      "    0    0    0    0    0    0    0    0    0    0    0    0    0    0\n",
      "    0    0    0    0    0    0    0    0    0    0    0    0    0    0\n",
      "    0    0    0    0    0    0    0    0    0    0    0    0    0    0\n",
      "    0    0    0    0    0    0    0    0    0    0    0    0    0    0\n",
      "    0    0    0    0    0    0    0    0    0    0    0    0    0    0\n",
      "    0    0    0    0    0    0    0    0    0    0    0    0    0    0\n",
      "    0    0    0    0    0    0    0    0    0    0    0    0    0    0\n",
      "    0    0    0    0    0    0    0    0    0    0    0    0    0    0\n",
      "    0    0    0    0    0    0    0    0    0    0    0    0    0    0\n",
      "    0    0    0    0    0    0    0    0    0    0    0    0    0    0\n",
      "    0    0    0    0    0    0    0    0    0    0    0    0    0    0\n",
      "    0    0    0    0    0    0    0    0    0    0    0    0    0    0\n",
      "    0    0    0    0    0    0    0    0    0    0    0    0    0    0\n",
      "    0    0    0    0    0    0    0    0    0    0    0    0    0    0\n",
      "    0    0    0    0    0    0    0    0    0    0    0    0    0    0\n",
      "    0    0    0    0    0    0    0    0    0    0    0    0    0    0\n",
      "    0    0    0    0    0    0    0    0], shape=(974,), dtype=int64)\n",
      "tf.Tensor(\n",
      "[  12  284    1  787   38 3712 1245    8 2535 8030   54   25 5670 7961\n",
      " 2496 1313  113  143  425    5  524    1 2661    2 2981 2440    5 5686\n",
      "  288   48   14  697 1507   11    1 5476    3  681 1658 5756 7961 1088\n",
      "   42   70   31    7  376 7974 5921   38 3712 1245 8044   54   23    1\n",
      "  521   26  117  140 1554   61  113    7  110   39    3  156    1  172\n",
      "   46  491   76   22    1  191    9 3748 5091 8029   95   13  180 4821\n",
      "  155 1863    3  173   29   63  410   13   29  438  126    7   35  165\n",
      " 2833   95   22   41 1020    3  468    2 1211 5522  413 1599 3784 7961\n",
      " 4599    6    1 1189  259  234   38 8000  778 8034   54    5 2810   22\n",
      " 5212  179   38 4137 3895 4348 4549   54 2157   76 2863   14   32   73\n",
      " 6543 7961  150    7   84 3299 7885  623    7    1 1910  355    3 6952\n",
      " 3194 1575   85 2161  104   28 4512 5040 8030   90 4512 5040 8030 7866\n",
      "  122 1575   85 5770   36   50  479    7  108  400   28   73  196 7968\n",
      "   21  115 1136  158  681 6233   18  495 7974  642    3 3248   13  538\n",
      " 7968   21 1736 1329    7  964    5   91   18    1 1202 8050   38 1292\n",
      " 6336   54  418   46  538 7968   21 1727    2 1732    2   50 4016   95\n",
      "   12  818   87   80   56 5638  139 8000  778 8034 7968    8 1173    3\n",
      "   19 4016    8   43 7570  376   47 7323  558  414  235   52  247   68\n",
      "   89 1370 4100 7961 1322   38 4847  632 4016   54 7008    8    5  247\n",
      " 3479    3   12 4448   91 5197   36   44  113  195   55 7101 2172  154\n",
      "    5 1612  117   35 2558  736   40    7 2744    3  156   37  485  174\n",
      "   14  191    5   15    9  879  197    7 5670 7961   11  624 7983   95\n",
      "   86   15   26  109 7968   21  129   13    1  309 1061 1189 6020   13\n",
      "  506   38  133 3712 1245    8 2535 8030   54   57  119  233   44   51\n",
      "    7  110   22   14   66 7975    0    0    0    0    0    0    0    0\n",
      "    0    0    0    0    0    0    0    0    0    0    0    0    0    0\n",
      "    0    0    0    0    0    0    0    0    0    0    0    0    0    0\n",
      "    0    0    0    0    0    0    0    0    0    0    0    0    0    0\n",
      "    0    0    0    0    0    0    0    0    0    0    0    0    0    0\n",
      "    0    0    0    0    0    0    0    0    0    0    0    0    0    0\n",
      "    0    0    0    0    0    0    0    0    0    0    0    0    0    0\n",
      "    0    0    0    0    0    0    0    0    0    0    0    0    0    0\n",
      "    0    0    0    0    0    0    0    0    0    0    0    0    0    0\n",
      "    0    0    0    0    0    0    0    0    0    0    0    0    0    0\n",
      "    0    0    0    0    0    0    0    0    0    0    0    0    0    0\n",
      "    0    0    0    0    0    0    0    0    0    0    0    0    0    0\n",
      "    0    0    0    0    0    0    0    0    0    0    0    0    0    0\n",
      "    0    0    0    0    0    0    0    0    0    0    0    0    0    0\n",
      "    0    0    0    0    0    0    0    0    0    0    0    0    0    0\n",
      "    0    0    0    0    0    0    0    0    0    0    0    0    0    0\n",
      "    0    0    0    0    0    0    0    0    0    0    0    0    0    0\n",
      "    0    0    0    0    0    0    0    0    0    0    0    0    0    0\n",
      "    0    0    0    0    0    0    0    0    0    0    0    0    0    0\n",
      "    0    0    0    0    0    0    0    0    0    0    0    0    0    0\n",
      "    0    0    0    0    0    0    0    0    0    0    0    0    0    0\n",
      "    0    0    0    0    0    0    0    0    0    0    0    0    0    0\n",
      "    0    0    0    0    0    0    0    0    0    0    0    0    0    0\n",
      "    0    0    0    0    0    0    0    0    0    0    0    0    0    0\n",
      "    0    0    0    0    0    0    0    0    0    0    0    0    0    0\n",
      "    0    0    0    0    0    0    0    0    0    0    0    0    0    0\n",
      "    0    0    0    0    0    0    0    0    0    0    0    0    0    0\n",
      "    0    0    0    0    0    0    0    0    0    0    0    0    0    0\n",
      "    0    0    0    0    0    0    0    0    0    0    0    0    0    0\n",
      "    0    0    0    0    0    0    0    0    0    0    0    0    0    0\n",
      "    0    0    0    0    0    0    0    0    0    0    0    0    0    0\n",
      "    0    0    0    0    0    0    0    0    0    0    0    0    0    0\n",
      "    0    0    0    0    0    0    0    0    0    0    0    0    0    0\n",
      "    0    0    0    0    0    0    0    0    0    0    0    0    0    0\n",
      "    0    0    0    0    0    0    0    0    0    0    0    0    0    0\n",
      "    0    0    0    0    0    0    0    0    0    0    0    0    0    0\n",
      "    0    0    0    0    0    0    0    0    0    0    0    0    0    0\n",
      "    0    0    0    0    0    0    0    0    0    0    0    0    0    0\n",
      "    0    0    0    0    0    0    0    0    0    0    0    0    0    0\n",
      "    0    0    0    0    0    0    0    0    0    0    0    0    0    0\n",
      "    0    0    0    0    0    0    0    0    0    0    0    0    0    0\n",
      "    0    0    0    0    0    0    0    0    0    0    0    0    0    0\n",
      "    0    0    0    0    0    0    0    0    0    0    0    0    0    0\n",
      "    0    0    0    0    0    0    0    0    0    0    0    0    0    0\n",
      "    0    0    0    0    0    0    0    0    0    0    0    0    0    0\n",
      "    0    0    0    0    0    0    0    0], shape=(974,), dtype=int64)\n"
     ]
    }
   ],
   "source": [
    "for example_batch, label_batch in train_batches.take(1):\n",
    "    print( len( example_batch) )\n",
    "    print( example_batch.shape )\n",
    "    print( example_batch[0] )\n",
    "    print( example_batch[1] )"
   ]
  },
  {
   "cell_type": "markdown",
   "metadata": {},
   "source": [
    "### Build the model\n",
    "> The neural network is created by stacking layers—this requires two main architectural decisions:\n",
    "\n",
    "* How many layers to use in the model?\n",
    "* How many hidden units to use for each layer?\n",
    "> In this example, the input data consists of an array of word-indices. The labels to predict are either 0 or 1. Let's build a \"Continuous bag of words\" style model for this problem:\n",
    "\n",
    "Caution: This model doesn't use masking, so the zero-padding is used as part of the input, so the padding length may affect the output. To fix this, see the masking and padding guide."
   ]
  },
  {
   "cell_type": "code",
   "execution_count": 60,
   "metadata": {
    "scrolled": true
   },
   "outputs": [
    {
     "name": "stdout",
     "output_type": "stream",
     "text": [
      "Model: \"sequential\"\n",
      "_________________________________________________________________\n",
      "Layer (type)                 Output Shape              Param #   \n",
      "=================================================================\n",
      "embedding (Embedding)        (None, None, 16)          130960    \n",
      "_________________________________________________________________\n",
      "global_average_pooling1d (Gl (None, 16)                0         \n",
      "_________________________________________________________________\n",
      "dense (Dense)                (None, 1)                 17        \n",
      "=================================================================\n",
      "Total params: 130,977\n",
      "Trainable params: 130,977\n",
      "Non-trainable params: 0\n",
      "_________________________________________________________________\n"
     ]
    }
   ],
   "source": [
    "model = keras.Sequential([\n",
    "  keras.layers.Embedding(encoder.vocab_size, 16),\n",
    "  keras.layers.GlobalAveragePooling1D(),\n",
    "  keras.layers.Dense(1, activation='sigmoid')])\n",
    "\n",
    "model.summary()"
   ]
  },
  {
   "cell_type": "markdown",
   "metadata": {},
   "source": [
    "Recall the dimension of example_batch is (32, 974) which is (batch, sequence). The embedding layer adds another dimension for embedding. As a result, (batch, sequence, embedding) is the resulting dimensions."
   ]
  },
  {
   "cell_type": "markdown",
   "metadata": {},
   "source": [
    "The source codes of the previous example [1_3_1-text_classification_with_TF_Hub.ipynb](#1_3_1-text_classification_with_TF_Hub.ipynb] is compared below.\n",
    "```python\n",
    "model = tf.keras.Sequential()\n",
    "model.add( hub_layer )\n",
    "model.add( tf.keras.layers.Dense(16, activation='relu') )\n",
    "model.add( tf.keras.layers.Dense(1, activation='sigmoid') )\n",
    "```"
   ]
  },
  {
   "cell_type": "markdown",
   "metadata": {},
   "source": [
    "### Hidden units\n",
    "### Loss function and optimizer\n",
    "> Generally, binary_crossentropy is better for dealing with probabilities—it measures the \"distance\" between probability distributions, or in our case, between the ground-truth distribution and the predictions."
   ]
  },
  {
   "cell_type": "code",
   "execution_count": 61,
   "metadata": {},
   "outputs": [],
   "source": [
    "model.compile(optimizer='adam',\n",
    "              loss='binary_crossentropy',\n",
    "              metrics=['accuracy'])"
   ]
  },
  {
   "cell_type": "markdown",
   "metadata": {},
   "source": [
    "Note the output shape of the embeddings is fixed to (num_examples, embedding_dimension) regardless of the input text length."
   ]
  },
  {
   "cell_type": "markdown",
   "metadata": {},
   "source": [
    "### Train the model"
   ]
  },
  {
   "cell_type": "code",
   "execution_count": 62,
   "metadata": {},
   "outputs": [
    {
     "name": "stdout",
     "output_type": "stream",
     "text": [
      "Epoch 1/10\n",
      "782/782 [==============================] - 3s 4ms/step - loss: 0.6826 - accuracy: 0.6312 - val_loss: 0.0000e+00 - val_accuracy: 0.0000e+00\n",
      "Epoch 2/10\n",
      "782/782 [==============================] - 2s 3ms/step - loss: 0.6255 - accuracy: 0.7469 - val_loss: 0.5970 - val_accuracy: 0.7906\n",
      "Epoch 3/10\n",
      "782/782 [==============================] - 2s 3ms/step - loss: 0.5464 - accuracy: 0.8065 - val_loss: 0.5306 - val_accuracy: 0.8042\n",
      "Epoch 4/10\n",
      "782/782 [==============================] - 2s 3ms/step - loss: 0.4784 - accuracy: 0.8410 - val_loss: 0.4775 - val_accuracy: 0.8500\n",
      "Epoch 5/10\n",
      "782/782 [==============================] - 2s 3ms/step - loss: 0.4260 - accuracy: 0.8609 - val_loss: 0.4361 - val_accuracy: 0.8583\n",
      "Epoch 6/10\n",
      "782/782 [==============================] - 2s 3ms/step - loss: 0.3842 - accuracy: 0.8760 - val_loss: 0.4036 - val_accuracy: 0.8583\n",
      "Epoch 7/10\n",
      "782/782 [==============================] - 2s 3ms/step - loss: 0.3519 - accuracy: 0.8849 - val_loss: 0.3779 - val_accuracy: 0.8677\n",
      "Epoch 8/10\n",
      "782/782 [==============================] - 2s 3ms/step - loss: 0.3256 - accuracy: 0.8927 - val_loss: 0.3597 - val_accuracy: 0.8740\n",
      "Epoch 9/10\n",
      "782/782 [==============================] - 2s 3ms/step - loss: 0.3055 - accuracy: 0.8988 - val_loss: 0.3429 - val_accuracy: 0.8792\n",
      "Epoch 10/10\n",
      "782/782 [==============================] - 3s 3ms/step - loss: 0.2893 - accuracy: 0.9037 - val_loss: 0.3296 - val_accuracy: 0.8823\n"
     ]
    }
   ],
   "source": [
    "history = model.fit(train_batches,\n",
    "                    epochs=10,\n",
    "                    validation_data=test_batches,\n",
    "                    validation_steps=30)"
   ]
  },
  {
   "cell_type": "markdown",
   "metadata": {},
   "source": [
    "### Create a graph of accuracy and loss over time\n",
    "The four performance metric (loss, accuracy, val_loss, val_accuracy) is harder to understand than a graph. In this section, these four quantities are depicted in two graphs.\n",
    "\n",
    "> model.fit() returns a History object that contains a dictionary with everything that happened during training. history_dict contains the same performance metric displayed in the command line above: "
   ]
  },
  {
   "cell_type": "code",
   "execution_count": 64,
   "metadata": {},
   "outputs": [
    {
     "data": {
      "text/plain": [
       "dict_keys(['loss', 'accuracy', 'val_loss', 'val_accuracy'])"
      ]
     },
     "execution_count": 64,
     "metadata": {},
     "output_type": "execute_result"
    }
   ],
   "source": [
    "history_dict = history.history\n",
    "history_dict.keys()"
   ]
  },
  {
   "cell_type": "markdown",
   "metadata": {},
   "source": [
    "The following variables save the four quantities: training accuracy, validation accuracy, training loss, and validation loss."
   ]
  },
  {
   "cell_type": "code",
   "execution_count": 65,
   "metadata": {},
   "outputs": [],
   "source": [
    "acc = history_dict['accuracy']\n",
    "val_acc = history_dict['val_accuracy']\n",
    "loss = history_dict['loss']\n",
    "val_loss = history_dict['val_loss']"
   ]
  },
  {
   "cell_type": "raw",
   "metadata": {},
   "source": [
    "A loss plot compares the training and validation losses."
   ]
  },
  {
   "cell_type": "code",
   "execution_count": 74,
   "metadata": {},
   "outputs": [
    {
     "data": {
      "image/png": "[encoded data removed]",
      "text/plain": [
       "<Figure size 432x288 with 1 Axes>"
      ]
     },
     "metadata": {
      "needs_background": "light"
     },
     "output_type": "display_data"
    }
   ],
   "source": [
    "import matplotlib.pyplot as plt\n",
    "%matplotlib inline\n",
    "epochs = range(1, len(acc) + 1)\n",
    "\n",
    "# Loss plot\n",
    "# \"bo\" is for \"blue dot\"\n",
    "plt.plot(epochs, loss, 'bo', label='Training loss')\n",
    "plt.plot(epochs, loss, 'b', label='Training loss')\n",
    "# b is for \"solid blue line\"\n",
    "plt.plot(epochs, val_loss, 'r--', label='Validation loss')\n",
    "plt.title('Training and validation loss')\n",
    "plt.xlabel('Epochs')\n",
    "plt.ylabel('Loss')\n",
    "plt.legend()\n",
    "plt.grid()\n",
    "plt.show()"
   ]
  },
  {
   "cell_type": "code",
   "execution_count": 75,
   "metadata": {},
   "outputs": [
    {
     "data": {
      "image/png": "[encoded data removed]",
      "text/plain": [
       "<Figure size 432x288 with 1 Axes>"
      ]
     },
     "metadata": {
      "needs_background": "light"
     },
     "output_type": "display_data"
    }
   ],
   "source": [
    "plt.plot(epochs, acc, 'bo', label='Training acc')\n",
    "plt.plot(epochs, acc, 'b', label='Training acc')\n",
    "plt.plot(epochs, val_acc, 'r--', label='Validation acc')\n",
    "plt.title('Training and validation accuracy')\n",
    "plt.xlabel('Epochs')\n",
    "plt.ylabel('Accuracy')\n",
    "plt.legend(loc='lower right')\n",
    "plt.grid()\n",
    "\n",
    "plt.show()"
   ]
  },
  {
   "cell_type": "markdown",
   "metadata": {},
   "source": [
    "* Excerpt from the tutorial\n",
    "\n",
    "Notice the training loss decreases with each epoch and the training accuracy increases with each epoch. This is expected when using a gradient descent optimization—it should minimize the desired quantity on every iteration.\n",
    "\n",
    "This isn't the case for the validation loss and accuracy—they seem to peak after about twenty epochs. This is an example of overfitting: the model performs better on the training data than it does on data it has never seen before. After this point, the model over-optimizes and learns representations specific to the training data that do not generalize to test data.\n",
    "\n",
    "For this particular case, we could prevent overfitting by simply stopping the training after twenty or so epochs. Later, you'll see how to do this automatically with a callback."
   ]
  },
  {
   "cell_type": "markdown",
   "metadata": {},
   "source": [
    "### Evaluate the model"
   ]
  },
  {
   "cell_type": "code",
   "execution_count": 63,
   "metadata": {},
   "outputs": [
    {
     "name": "stdout",
     "output_type": "stream",
     "text": [
      "782/782 [==============================] - 1s 2ms/step - loss: 0.3332 - accuracy: 0.8776\n",
      "Loss:  0.33321987750851895\n",
      "Accuracy:  0.8776\n"
     ]
    }
   ],
   "source": [
    "loss, accuracy = model.evaluate(test_batches)\n",
    "\n",
    "print(\"Loss: \", loss)\n",
    "print(\"Accuracy: \", accuracy)"
   ]
  },
  {
   "cell_type": "markdown",
   "metadata": {},
   "source": [
    "> This fairly naive approach achieves an accuracy of about 87%. With more advanced approaches, the model should get closer to 95%."
   ]
  },
  {
   "cell_type": "markdown",
   "metadata": {},
   "source": [
    "The source codes in the previous eaxmple is presented below for comparison.\n",
    "```python\n",
    "results = model.evaluate( test_data.batch(512), verbose=2 )\n",
    "\n",
    "for name, value in zip(model.metrics_names, results):\n",
    "  print(\"%s: %.3f\" % (name, value))\n",
    "```"
   ]
  },
  {
   "cell_type": "markdown",
   "metadata": {},
   "source": [
    "> This fairly naive approach achieves an accuracy of about 87%. With more advanced approaches, the model should get closer to 95%."
   ]
  },
  {
   "cell_type": "markdown",
   "metadata": {},
   "source": [
    "(EOF)"
   ]
  }
 ],
 "metadata": {
  "kernelspec": {
   "display_name": "Python 3",
   "language": "python",
   "name": "python3"
  },
  "language_info": {
   "codemirror_mode": {
    "name": "ipython",
    "version": 3
   },
   "file_extension": ".py",
   "mimetype": "text/x-python",
   "name": "python",
   "nbconvert_exporter": "python",
   "pygments_lexer": "ipython3",
   "version": "3.7.4"
  }
 },
 "nbformat": 4,
 "nbformat_minor": 2
}

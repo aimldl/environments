{
 "cells": [
  {
   "cell_type": "markdown",
   "metadata": {},
   "source": [
    "##### aimldl >python3 > packages > tensorflow > tutorials > beginners > 1_1_1-beginner_quickstart-MNIST.ipynb\n",
    "\n",
    "* This notebook is a replica of [TensorFlow 2 quickstart for beginners](https://www.tensorflow.org/tutorials/quickstart/beginner) with some comments.\n",
    "* It is prerequisite to install TensorFlow 2.0.\n",
    "* This example corresponds to \"Hello, World\" for TensorFlow.\n",
    "* It took about 20 seconds to achieve accuracy of 0.97 on a primitive GPU card (NVIDIA GeForce GTX 1080).\n",
    "\n",
    "```bash\n",
    "$ date\n",
    "2019. 11. 18. (월) 16:22:03 KST\n",
    "$ python 1_1-beginner_quickstart.py \n",
    "2019-11-18 16:22:10.855856: I tensorflow/core/platform/cpu_feature_guard.cc:142] Your CPU supports instructions that this TensorFlow binary was not compiled to use: AVX2 FMA\n",
    "2019-11-18 16:22:10.876255: I tensorflow/core/platform/profile_utils/cpu_utils.cc:94] CPU Frequency: 4200000000 Hz\n",
    "2019-11-18 16:22:10.876576: I tensorflow/compiler/xla/service/service.cc:168] XLA service 0x558073fe04c0 executing computations on platform Host. Devices:\n",
    "2019-11-18 16:22:10.876590: I tensorflow/compiler/xla/service/service.cc:175]   StreamExecutor device (0): Host, Default Version\n",
    "Train on 60000 samples\n",
    "Epoch 1/5\n",
    "60000/60000 [==============================] - 3s 43us/sample - loss: 0.2931 - accuracy: 0.9152\n",
    "Epoch 2/5\n",
    "60000/60000 [==============================] - 2s 36us/sample - loss: 0.1426 - accuracy: 0.9579\n",
    "Epoch 3/5\n",
    "60000/60000 [==============================] - 2s 36us/sample - loss: 0.1074 - accuracy: 0.9677\n",
    "Epoch 4/5\n",
    "60000/60000 [==============================] - 2s 36us/sample - loss: 0.0890 - accuracy: 0.9727\n",
    "Epoch 5/5\n",
    "60000/60000 [==============================] - 2s 36us/sample - loss: 0.0735 - accuracy: 0.9769\n",
    "10000/1 - 0s - loss: 0.0398 - accuracy: 0.9764\n",
    "$ date\n",
    "2019. 11. 18. (월) 16:22:24 KST\n",
    "```"
   ]
  },
  {
   "cell_type": "code",
   "execution_count": 1,
   "metadata": {},
   "outputs": [],
   "source": [
    "from __future__ import absolute_import, division, print_function, unicode_literals\n",
    "\n",
    "import tensorflow as tf\n",
    "\n",
    "mnist = tf.keras.datasets.mnist\n",
    "\n",
    "(x_train, y_train), (x_test, y_test) = mnist.load_data()\n",
    "x_train, x_test = x_train / 255.0, x_test / 255.0"
   ]
  },
  {
   "cell_type": "code",
   "execution_count": 2,
   "metadata": {},
   "outputs": [],
   "source": [
    "model = tf.keras.models.Sequential([\n",
    "  tf.keras.layers.Flatten(input_shape=(28, 28)),\n",
    "  tf.keras.layers.Dense(128, activation='relu'),\n",
    "  tf.keras.layers.Dropout(0.2),\n",
    "  tf.keras.layers.Dense(10, activation='softmax')\n",
    "])"
   ]
  },
  {
   "cell_type": "code",
   "execution_count": 3,
   "metadata": {},
   "outputs": [],
   "source": [
    "model.compile(optimizer='adam',\n",
    "              loss='sparse_categorical_crossentropy',\n",
    "              metrics=['accuracy'])"
   ]
  },
  {
   "cell_type": "code",
   "execution_count": 4,
   "metadata": {},
   "outputs": [
    {
     "name": "stdout",
     "output_type": "stream",
     "text": [
      "Train on 60000 samples\n",
      "Epoch 1/5\n",
      "60000/60000 [==============================] - 2s 30us/sample - loss: 0.2973 - accuracy: 0.9138\n",
      "Epoch 2/5\n",
      "60000/60000 [==============================] - 1s 25us/sample - loss: 0.1415 - accuracy: 0.9577\n",
      "Epoch 3/5\n",
      "60000/60000 [==============================] - 2s 25us/sample - loss: 0.1066 - accuracy: 0.9680\n",
      "Epoch 4/5\n",
      "60000/60000 [==============================] - 2s 26us/sample - loss: 0.0869 - accuracy: 0.9727\n",
      "Epoch 5/5\n",
      "60000/60000 [==============================] - 2s 25us/sample - loss: 0.0736 - accuracy: 0.9771\n"
     ]
    },
    {
     "data": {
      "text/plain": [
       "<tensorflow.python.keras.callbacks.History at 0x7fdd77558ad0>"
      ]
     },
     "execution_count": 4,
     "metadata": {},
     "output_type": "execute_result"
    }
   ],
   "source": [
    "model.fit(x_train, y_train, epochs=5)"
   ]
  },
  {
   "cell_type": "code",
   "execution_count": 5,
   "metadata": {},
   "outputs": [
    {
     "name": "stdout",
     "output_type": "stream",
     "text": [
      "10000/1 - 0s - loss: 0.0392 - accuracy: 0.9757\n"
     ]
    },
    {
     "data": {
      "text/plain": [
       "[0.07775480504576117, 0.9757]"
      ]
     },
     "execution_count": 5,
     "metadata": {},
     "output_type": "execute_result"
    }
   ],
   "source": [
    "model.evaluate(x_test,  y_test, verbose=2)"
   ]
  },
  {
   "cell_type": "markdown",
   "metadata": {},
   "source": [
    "(EOF)"
   ]
  }
 ],
 "metadata": {
  "kernelspec": {
   "display_name": "Python 3",
   "language": "python",
   "name": "python3"
  },
  "language_info": {
   "codemirror_mode": {
    "name": "ipython",
    "version": 3
   },
   "file_extension": ".py",
   "mimetype": "text/x-python",
   "name": "python",
   "nbconvert_exporter": "python",
   "pygments_lexer": "ipython3",
   "version": "3.7.4"
  }
 },
 "nbformat": 4,
 "nbformat_minor": 2
}

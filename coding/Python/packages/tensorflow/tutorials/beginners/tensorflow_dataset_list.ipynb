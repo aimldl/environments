{
 "cells": [
  {
   "cell_type": "code",
   "execution_count": 1,
   "metadata": {},
   "outputs": [
    {
     "name": "stdout",
     "output_type": "stream",
     "text": [
      "['abstract_reasoning', 'aeslc', 'aflw2k3d', 'amazon_us_reviews', 'bair_robot_pushing_small', 'big_patent', 'bigearthnet', 'billsum', 'binarized_mnist', 'binary_alpha_digits', 'c4', 'caltech101', 'caltech_birds2010', 'caltech_birds2011', 'cars196', 'cassava', 'cats_vs_dogs', 'celeb_a', 'celeb_a_hq', 'chexpert', 'cifar10', 'cifar100', 'cifar10_1', 'cifar10_corrupted', 'clevr', 'cmaterdb', 'cnn_dailymail', 'coco', 'coco2014', 'coil100', 'colorectal_histology', 'colorectal_histology_large', 'curated_breast_imaging_ddsm', 'cycle_gan', 'deep_weeds', 'definite_pronoun_resolution', 'diabetic_retinopathy_detection', 'downsampled_imagenet', 'dsprites', 'dtd', 'dummy_dataset_shared_generator', 'dummy_mnist', 'emnist', 'eurosat', 'fashion_mnist', 'flores', 'food101', 'gap', 'gigaword', 'glue', 'groove', 'higgs', 'horses_or_humans', 'image_label_folder', 'imagenet2012', 'imagenet2012_corrupted', 'imagenet_resized', 'imdb_reviews', 'iris', 'kitti', 'kmnist', 'lfw', 'lm1b', 'lsun', 'malaria', 'mnist', 'mnist_corrupted', 'moving_mnist', 'multi_news', 'multi_nli', 'multi_nli_mismatch', 'newsroom', 'nsynth', 'omniglot', 'open_images_v4', 'oxford_flowers102', 'oxford_iiit_pet', 'para_crawl', 'patch_camelyon', 'pet_finder', 'places365_small', 'quickdraw_bitmap', 'reddit_tifu', 'resisc45', 'rock_paper_scissors', 'rock_you', 'scene_parse150', 'scientific_papers', 'shapes3d', 'smallnorb', 'snli', 'so2sat', 'squad', 'stanford_dogs', 'stanford_online_products', 'starcraft_video', 'sun397', 'super_glue', 'svhn_cropped', 'ted_hrlr_translate', 'ted_multi_translate', 'tf_flowers', 'the300w_lp', 'titanic', 'trivia_qa', 'uc_merced', 'ucf101', 'visual_domain_decathlon', 'voc', 'wider_face', 'wikihow', 'wikipedia', 'wmt14_translate', 'wmt15_translate', 'wmt16_translate', 'wmt17_translate', 'wmt18_translate', 'wmt19_translate', 'wmt_t2t_translate', 'wmt_translate', 'xnli', 'xsum']\n"
     ]
    }
   ],
   "source": [
    "import tensorflow_datasets as tfds\n",
    "print(tfds.list_builders())"
   ]
  },
  {
   "cell_type": "code",
   "execution_count": 3,
   "metadata": {},
   "outputs": [
    {
     "name": "stdout",
     "output_type": "stream",
     "text": [
      "122\n"
     ]
    }
   ],
   "source": [
    "print( len(tfds.list_builders()) )"
   ]
  },
  {
   "cell_type": "code",
   "execution_count": 2,
   "metadata": {},
   "outputs": [
    {
     "name": "stdout",
     "output_type": "stream",
     "text": [
      "abstract_reasoning\n",
      "aeslc\n",
      "aflw2k3d\n",
      "amazon_us_reviews\n",
      "bair_robot_pushing_small\n",
      "big_patent\n",
      "bigearthnet\n",
      "billsum\n",
      "binarized_mnist\n",
      "binary_alpha_digits\n",
      "c4\n",
      "caltech101\n",
      "caltech_birds2010\n",
      "caltech_birds2011\n",
      "cars196\n",
      "cassava\n",
      "cats_vs_dogs\n",
      "celeb_a\n",
      "celeb_a_hq\n",
      "chexpert\n",
      "cifar10\n",
      "cifar100\n",
      "cifar10_1\n",
      "cifar10_corrupted\n",
      "clevr\n",
      "cmaterdb\n",
      "cnn_dailymail\n",
      "coco\n",
      "coco2014\n",
      "coil100\n",
      "colorectal_histology\n",
      "colorectal_histology_large\n",
      "curated_breast_imaging_ddsm\n",
      "cycle_gan\n",
      "deep_weeds\n",
      "definite_pronoun_resolution\n",
      "diabetic_retinopathy_detection\n",
      "downsampled_imagenet\n",
      "dsprites\n",
      "dtd\n",
      "dummy_dataset_shared_generator\n",
      "dummy_mnist\n",
      "emnist\n",
      "eurosat\n",
      "fashion_mnist\n",
      "flores\n",
      "food101\n",
      "gap\n",
      "gigaword\n",
      "glue\n",
      "groove\n",
      "higgs\n",
      "horses_or_humans\n",
      "image_label_folder\n",
      "imagenet2012\n",
      "imagenet2012_corrupted\n",
      "imagenet_resized\n",
      "imdb_reviews\n",
      "iris\n",
      "kitti\n",
      "kmnist\n",
      "lfw\n",
      "lm1b\n",
      "lsun\n",
      "malaria\n",
      "mnist\n",
      "mnist_corrupted\n",
      "moving_mnist\n",
      "multi_news\n",
      "multi_nli\n",
      "multi_nli_mismatch\n",
      "newsroom\n",
      "nsynth\n",
      "omniglot\n",
      "open_images_v4\n",
      "oxford_flowers102\n",
      "oxford_iiit_pet\n",
      "para_crawl\n",
      "patch_camelyon\n",
      "pet_finder\n",
      "places365_small\n",
      "quickdraw_bitmap\n",
      "reddit_tifu\n",
      "resisc45\n",
      "rock_paper_scissors\n",
      "rock_you\n",
      "scene_parse150\n",
      "scientific_papers\n",
      "shapes3d\n",
      "smallnorb\n",
      "snli\n",
      "so2sat\n",
      "squad\n",
      "stanford_dogs\n",
      "stanford_online_products\n",
      "starcraft_video\n",
      "sun397\n",
      "super_glue\n",
      "svhn_cropped\n",
      "ted_hrlr_translate\n",
      "ted_multi_translate\n",
      "tf_flowers\n",
      "the300w_lp\n",
      "titanic\n",
      "trivia_qa\n",
      "uc_merced\n",
      "ucf101\n",
      "visual_domain_decathlon\n",
      "voc\n",
      "wider_face\n",
      "wikihow\n",
      "wikipedia\n",
      "wmt14_translate\n",
      "wmt15_translate\n",
      "wmt16_translate\n",
      "wmt17_translate\n",
      "wmt18_translate\n",
      "wmt19_translate\n",
      "wmt_t2t_translate\n",
      "wmt_translate\n",
      "xnli\n",
      "xsum\n"
     ]
    }
   ],
   "source": [
    "for name in tfds.list_builders():\n",
    "    print( name )"
   ]
  },
  {
   "cell_type": "code",
   "execution_count": null,
   "metadata": {},
   "outputs": [],
   "source": []
  }
 ],
 "metadata": {
  "kernelspec": {
   "display_name": "Python 3",
   "language": "python",
   "name": "python3"
  },
  "language_info": {
   "codemirror_mode": {
    "name": "ipython",
    "version": 3
   },
   "file_extension": ".py",
   "mimetype": "text/x-python",
   "name": "python",
   "nbconvert_exporter": "python",
   "pygments_lexer": "ipython3",
   "version": "3.7.4"
  }
 },
 "nbformat": 4,
 "nbformat_minor": 2
}

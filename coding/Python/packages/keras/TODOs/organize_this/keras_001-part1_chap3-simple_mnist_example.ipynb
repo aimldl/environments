{
 "cells": [
  {
   "cell_type": "code",
   "execution_count": 2,
   "metadata": {},
   "outputs": [
    {
     "name": "stdout",
     "output_type": "stream",
     "text": [
      "scipy1.1.0\n",
      "numpy1.14.5\n",
      "matplotlib2.2.3\n",
      "pandas0.23.4\n",
      "sklearn0.19.1\n",
      "h5py2.8.0\n",
      "tensorflow1.10.0\n",
      "keras2.2.3\n"
     ]
    }
   ],
   "source": [
    "# keras_001-part1_chap3-simple_mnist_example\n",
    "#\n",
    "# 김태영, 블록과 함께 하는 파이썬 딥러닝 케라스\n",
    "# Part1. 케라스 시작하기\n",
    "# Chapter3. 윈도우에서 케라스 설치하기\n",
    "# 2018-10-02 (화)\n",
    "\n",
    "# p.28, 7. 설치환경 테스트해보기\n",
    "\n",
    "import scipy\n",
    "import numpy\n",
    "import matplotlib\n",
    "import pandas\n",
    "import sklearn\n",
    "import h5py\n",
    "\n",
    "#import theano\n",
    "import tensorflow\n",
    "import keras\n",
    "\n",
    "print( 'scipy' + scipy.__version__ )\n",
    "print( 'numpy' + numpy.__version__ )\n",
    "print( 'matplotlib' + matplotlib.__version__ )\n",
    "print( 'pandas' + pandas.__version__ )\n",
    "print( 'sklearn' + sklearn.__version__ )\n",
    "print( 'h5py' + h5py.__version__ )\n",
    "\n",
    "#print( 'theano' + theano.__version__ )\n",
    "print( 'tensorflow' + tensorflow.__version__ )\n",
    "print( 'keras' + keras.__version__ )"
   ]
  },
  {
   "cell_type": "code",
   "execution_count": null,
   "metadata": {},
   "outputs": [],
   "source": [
    "# p.30, 딥러닝 기본 모델 구동 확인\n",
    "\n",
    "from keras.utils import np_utils\n",
    "from keras.datasets import mnist\n",
    "from keras.models import Sequential\n",
    "from keras.layers import Dense, Activation\n",
    "\n",
    "(x_train, y_train), (x_test, y_test) = mnist.load_data()\n",
    "x_train = x_train.reshape(60000,784).astype('float32') / 255.0\n",
    "x_test = x_test.reshape(10000,784).astype('float32') / 255.0\n",
    "y_train = np_utils.to_categorical( y_train )\n",
    "y_test = np_utils.to_categorical( y_test )\n",
    "\n",
    "model = Sequential()\n",
    "model.add( Dense( units = 64, input_dim = 28*28, activation = 'relu') )\n",
    "model.add( Dense( units = 10, activation = 'softmax') )\n",
    "model.compile( loss='categorical_crossentropy', optimizer='sgd', metrics=['accuracy'] )\n",
    "model.fit( x_train, y_train, epochs = 5, batch_size = 32 )\n",
    "loss_and_metrics = model.evaluate( x_test, y_test, batch_size = 32 )\n",
    "\n",
    "print('loss_and_metrics : ' + str( loss_and_metrics) )\n"
   ]
  },
  {
   "cell_type": "code",
   "execution_count": 3,
   "metadata": {},
   "outputs": [
    {
     "data": {
      "image/svg+xml": [
       "<svg height=\"211pt\" viewBox=\"0.00 0.00 251.00 211.00\" width=\"251pt\" xmlns=\"http://www.w3.org/2000/svg\" xmlns:xlink=\"http://www.w3.org/1999/xlink\">\n",
       "<g class=\"graph\" id=\"graph0\" transform=\"scale(1 1) rotate(0) translate(4 207)\">\n",
       "<title>G</title>\n",
       "<polygon fill=\"white\" points=\"-4,4 -4,-207 247,-207 247,4 -4,4\" stroke=\"none\"/>\n",
       "<!-- 2725911513744 -->\n",
       "<g class=\"node\" id=\"node1\"><title>2725911513744</title>\n",
       "<polygon fill=\"none\" points=\"0,-83.5 0,-129.5 243,-129.5 243,-83.5 0,-83.5\" stroke=\"black\"/>\n",
       "<text font-family=\"Times New Roman,serif\" font-size=\"14.00\" text-anchor=\"middle\" x=\"52\" y=\"-102.8\">dense_1: Dense</text>\n",
       "<polyline fill=\"none\" points=\"104,-83.5 104,-129.5 \" stroke=\"black\"/>\n",
       "<text font-family=\"Times New Roman,serif\" font-size=\"14.00\" text-anchor=\"middle\" x=\"132\" y=\"-114.3\">input:</text>\n",
       "<polyline fill=\"none\" points=\"104,-106.5 160,-106.5 \" stroke=\"black\"/>\n",
       "<text font-family=\"Times New Roman,serif\" font-size=\"14.00\" text-anchor=\"middle\" x=\"132\" y=\"-91.3\">output:</text>\n",
       "<polyline fill=\"none\" points=\"160,-83.5 160,-129.5 \" stroke=\"black\"/>\n",
       "<text font-family=\"Times New Roman,serif\" font-size=\"14.00\" text-anchor=\"middle\" x=\"201.5\" y=\"-114.3\">(None, 784)</text>\n",
       "<polyline fill=\"none\" points=\"160,-106.5 243,-106.5 \" stroke=\"black\"/>\n",
       "<text font-family=\"Times New Roman,serif\" font-size=\"14.00\" text-anchor=\"middle\" x=\"201.5\" y=\"-91.3\">(None, 64)</text>\n",
       "</g>\n",
       "<!-- 2725977589800 -->\n",
       "<g class=\"node\" id=\"node2\"><title>2725977589800</title>\n",
       "<polygon fill=\"none\" points=\"3,-0.5 3,-46.5 240,-46.5 240,-0.5 3,-0.5\" stroke=\"black\"/>\n",
       "<text font-family=\"Times New Roman,serif\" font-size=\"14.00\" text-anchor=\"middle\" x=\"55\" y=\"-19.8\">dense_2: Dense</text>\n",
       "<polyline fill=\"none\" points=\"107,-0.5 107,-46.5 \" stroke=\"black\"/>\n",
       "<text font-family=\"Times New Roman,serif\" font-size=\"14.00\" text-anchor=\"middle\" x=\"135\" y=\"-31.3\">input:</text>\n",
       "<polyline fill=\"none\" points=\"107,-23.5 163,-23.5 \" stroke=\"black\"/>\n",
       "<text font-family=\"Times New Roman,serif\" font-size=\"14.00\" text-anchor=\"middle\" x=\"135\" y=\"-8.3\">output:</text>\n",
       "<polyline fill=\"none\" points=\"163,-0.5 163,-46.5 \" stroke=\"black\"/>\n",
       "<text font-family=\"Times New Roman,serif\" font-size=\"14.00\" text-anchor=\"middle\" x=\"201.5\" y=\"-31.3\">(None, 64)</text>\n",
       "<polyline fill=\"none\" points=\"163,-23.5 240,-23.5 \" stroke=\"black\"/>\n",
       "<text font-family=\"Times New Roman,serif\" font-size=\"14.00\" text-anchor=\"middle\" x=\"201.5\" y=\"-8.3\">(None, 10)</text>\n",
       "</g>\n",
       "<!-- 2725911513744&#45;&gt;2725977589800 -->\n",
       "<g class=\"edge\" id=\"edge2\"><title>2725911513744-&gt;2725977589800</title>\n",
       "<path d=\"M121.5,-83.3664C121.5,-75.1516 121.5,-65.6579 121.5,-56.7252\" fill=\"none\" stroke=\"black\"/>\n",
       "<polygon fill=\"black\" points=\"125,-56.6068 121.5,-46.6068 118,-56.6069 125,-56.6068\" stroke=\"black\"/>\n",
       "</g>\n",
       "<!-- 2725978247688 -->\n",
       "<g class=\"node\" id=\"node3\"><title>2725978247688</title>\n",
       "<polygon fill=\"none\" points=\"69.5,-166.5 69.5,-202.5 173.5,-202.5 173.5,-166.5 69.5,-166.5\" stroke=\"black\"/>\n",
       "<text font-family=\"Times New Roman,serif\" font-size=\"14.00\" text-anchor=\"middle\" x=\"121.5\" y=\"-180.8\">2725978247688</text>\n",
       "</g>\n",
       "<!-- 2725978247688&#45;&gt;2725911513744 -->\n",
       "<g class=\"edge\" id=\"edge1\"><title>2725978247688-&gt;2725911513744</title>\n",
       "<path d=\"M121.5,-166.254C121.5,-158.363 121.5,-148.749 121.5,-139.602\" fill=\"none\" stroke=\"black\"/>\n",
       "<polygon fill=\"black\" points=\"125,-139.591 121.5,-129.591 118,-139.591 125,-139.591\" stroke=\"black\"/>\n",
       "</g>\n",
       "</g>\n",
       "</svg>"
      ],
      "text/plain": [
       "<IPython.core.display.SVG object>"
      ]
     },
     "execution_count": 3,
     "metadata": {},
     "output_type": "execute_result"
    }
   ],
   "source": [
    "# p.31, 딥러닝 모델 가시화 기능 확인\n",
    "\n",
    "from IPython.display import SVG\n",
    "from keras.utils.vis_utils import model_to_dot\n",
    "\n",
    "%matplotlib inline\n",
    "\n",
    "SVG( model_to_dot( model, show_shapes=True).create( prog='dot', format='svg') )"
   ]
  },
  {
   "cell_type": "code",
   "execution_count": 4,
   "metadata": {},
   "outputs": [],
   "source": [
    "# p.31, 딥러닝 모델 저장 기능 확인\n",
    "\n",
    "from keras.models import load_model\n",
    "\n",
    "model.save('mnist_mlp_model.h5')\n",
    "model = load_model('mnist_mlp_model.h5')\n"
   ]
  },
  {
   "cell_type": "code",
   "execution_count": null,
   "metadata": {},
   "outputs": [],
   "source": []
  }
 ],
 "metadata": {
  "kernelspec": {
   "display_name": "Python 3",
   "language": "python",
   "name": "python3"
  },
  "language_info": {
   "codemirror_mode": {
    "name": "ipython",
    "version": 3
   },
   "file_extension": ".py",
   "mimetype": "text/x-python",
   "name": "python",
   "nbconvert_exporter": "python",
   "pygments_lexer": "ipython3",
   "version": "3.6.6"
  }
 },
 "nbformat": 4,
 "nbformat_minor": 2
}
